{
 "cells": [
  {
   "cell_type": "code",
   "execution_count": 1,
   "metadata": {},
   "outputs": [],
   "source": [
    "import time\n",
    "import numpy as np\n",
    "import cv2\n",
    "import pandas as pd\n",
    "import matplotlib.pyplot as plt\n",
    "from scipy import signal\n",
    "import os, errno\n",
    "import glob"
   ]
  },
  {
   "cell_type": "code",
   "execution_count": 2,
   "metadata": {},
   "outputs": [],
   "source": [
    "source = r\"/Users/Mahad/Downloads/drive-download-20200317T004709Z-001/Centroids_Relevant\"\n",
    "outpath = r\"/Users/Mahad/Downloads/drive-download-20200317T004709Z-001/Centroids_Trimmed\"\n",
    "window = r\"/Users/Mahad/Downloads/drive-download-20200317T004709Z-001/Centroids_Trimmed/Window\""
   ]
  },
  {
   "cell_type": "code",
   "execution_count": 3,
   "metadata": {},
   "outputs": [],
   "source": [
    "csv_list = glob.glob(source + \"//*.csv\")"
   ]
  },
  {
   "cell_type": "code",
   "execution_count": 10,
   "metadata": {},
   "outputs": [],
   "source": [
    "new_list = []\n",
    "for element in csv_list:\n",
    "    df = pd.read_csv(source + \"//\" + element[78:])\n",
    "    if len(df.X_position.values) < 2000 and not element[78:].startswith(\"Sham_18\") and not element[78:].startswith('Sham_10_0') and not element[78:].startswith('Sham_14_1') and not element[78:].startswith('Sham_17_0'):\n",
    "        \n",
    "        new_list.append(element)"
   ]
  },
  {
   "cell_type": "code",
   "execution_count": 9,
   "metadata": {},
   "outputs": [
    {
     "name": "stdout",
     "output_type": "stream",
     "text": [
      "Experimental_7_4_54607 [  0   1   2   3   4 350 351 352 353 354]\n",
      "Experimental_7_1_36846 [  0   1   2 418 419 420]\n",
      "Sham_16_9_31431 [  0   1   2   3   4   5   6   7   8   9  10  11  12  13  14  16  17  18\n",
      "  20  21  22  24  25  26  28  29  30  32  33  34 296 297 298 299 300 301\n",
      " 302 303 304 305 306 307 308 309 310 311 312 313 314 315 316 317 318 340\n",
      " 341 342 343 344 345 346 347 348 349 350 351 352 353 354 355 356 357 358\n",
      " 359 360 361 362 363 364 365 366 367 368 369 370]\n",
      "Experimental_7_3_41552 [  0   1   2 353 354 355 356 357]\n",
      "Experimental_4_1_72340 [0 1 2 3]\n",
      "Sham_16_8_29633 [1413 1414 1415 1416 1417 1418 1419 1420 1421 1422 1423 1424 1425 1426\n",
      " 1427 1428 1429]\n",
      "Sham_7_0_63837 [231 232 233 234 235 236 237 239 240 241 242 243 244 245 246 247 248 249\n",
      " 250 251 252 253 254 255 256 257 258 259 260 261 262]\n",
      "Experimental_7_0_36526 [  0   1   2   3   4   5   6   7   8   9  10  11  12  13  14  15  16  17\n",
      " 274 275 276 277 278 279]\n",
      "Experimental_1_0_52688 [  0   1 471 472 473 475 476 477 478 479 480 482 483 484 485 486 487 696\n",
      " 697 698 699 700 701 702 703]\n",
      "Experimental_7_2_40443 [  0   1 269 270 271 274]\n",
      "Sham_7_1_64994 [ 0 34 35 36 38 39 40 41 42 43]\n"
     ]
    }
   ],
   "source": [
    "start_list = []\n",
    "end_list = []\n",
    "name_list = []\n",
    "for element in new_list:\n",
    "    df = pd.read_csv(source + \"//\" + element[78:])\n",
    "   \n",
    "    start, end = 0, len(df.X_position.values)\n",
    "    if np.any(df.X_position.isnull()):\n",
    "        print(element[78:-4], np.asarray(np.where(df.X_position.isnull())).ravel())\n",
    "        a = np.asarray(np.where(df.X_position.isnull())).ravel()\n",
    "        b = a[1:]\n",
    "        c = a[:-1]\n",
    "        d = b-c\n",
    "        if element[78:].startswith(\"Experimental_1_0\"):\n",
    "            start = 488 \n",
    "            end = 696\n",
    "        elif (len(df.X_position.values) - a[-1]) > 40:\n",
    "            start = a[-1] + 1\n",
    "            end = len(df.X_position.values)\n",
    "            \n",
    "        elif max(d) > 5:\n",
    "            start = a[np.argmax(d)]+1\n",
    "            end = a[np.argmax(d)+1]\n",
    "\n",
    "        \n",
    "        else:\n",
    "            if a[0] == 0:\n",
    "                start = a[-1] + 1\n",
    "                end = len(df.X_position)\n",
    "\n",
    "            else:\n",
    "                start = 0\n",
    "                end = a[0]\n",
    "\n",
    "    \n",
    "#     print(element[78:-4], start, end)\n",
    "    new_df = df[start:end]\n",
    "    start_list.append(new_df.FrameNumber.values[0])\n",
    "    end_list.append(new_df.FrameNumber.values[-1])\n",
    "    name_list.append(element[78:-4])\n",
    "    new_df = new_df.reset_index()\n",
    "    new_df = new_df.drop(columns=['Unnamed: 0', 'index'])\n",
    "    new_df.to_csv(outpath + \"//\" + element[78:])"
   ]
  },
  {
   "cell_type": "code",
   "execution_count": 7,
   "metadata": {},
   "outputs": [
    {
     "data": {
      "text/plain": [
       "',start_frame,end_frame,name\\n0,35598,35896,Sham_1_12_35598\\n1,54612,54956,Experimental_7_4_54607\\n2,36849,37263,Experimental_7_1_36846\\n3,11444,11828,Sham_1_0_11444\\n4,3685,3972,Experimental_2_0_3685\\n5,35161,35463,Sham_15_6_35161\\n6,47701,48310,Sham_15_8_47701\\n7,31463,31920,Sham_1_9_31463\\n8,69872,70172,Sham_13_6_69872\\n9,74202,74494,Sham_9_1_74202\\n10,16654,16959,Sham_1_3_16654\\n11,33719,34082,Sham_15_5_33719\\n12,14767,15080,Sham_1_1_14767\\n13,2178,2503,Sham_15_0_2178\\n14,83460,83726,Sham_6_0_83460\\n15,66540,67524,Sham_13_4_66540\\n16,66232,66583,Experimental_4_0_66232\\n17,45293,45564,Sham_10_1_45293\\n18,31076,31442,Sham_1_8_31076\\n19,15164,16081,Sham_1_2_15164\\n20,33803,35325,Sham_1_11_33803\\n21,31466,31726,Sham_16_9_31431\\n22,41555,41904,Experimental_7_3_41552\\n23,77208,77493,Sham_3_0_77208\\n24,3449,4028,Sham_16_2_3449\\n25,72344,72750,Experimental_4_1_72340\\n26,63495,63794,Experimental_6_1_63495\\n27,2114,2995,Sham_16_1_2114\\n28,68328,69008,Sham_12_4_68328\\n29,57478,57771,Sham_12_2_57478\\n30,67837,69222,Sham_13_5_67837\\n31,29633,31045,Sham_16_8_29633\\n32,63837,64067,Sham_7_0_63837\\n33,7297,9087,Sham_16_5_7297\\n34,2857,3454,Sham_15_1_2857\\n35,16721,17620,Experimental_2_1_16721\\n36,153286,153833,Sham_6_1_153286\\n37,64483,64908,Sham_17_2_64483\\n38,45702,46259,Sham_15_7_45702\\n39,28515,28799,Sham_1_5_28515\\n40,36544,36799,Experimental_7_0_36526\\n41,29010,29341,Sham_1_6_29010\\n42,83204,83536,Sham_10_2_83204\\n43,2202,2578,Sham_12_0_2202\\n44,37142,37701,Sham_1_13_37142\\n45,62077,62336,Sham_13_2_62077\\n46,32871,33660,Sham_15_4_32871\\n47,38514,38866,Sham_1_14_38514\\n48,6909,7293,Sham_16_4_6909\\n49,53176,53383,Experimental_1_0_52688\\n50,40445,40711,Experimental_7_2_40443\\n51,31980,33417,Sham_1_10_31980\\n52,30780,31068,Sham_1_7_30780\\n53,17684,18065,Sham_1_4_17684\\n54,1688,2011,Sham_16_0_1688\\n55,1946,2360,Sham_14_0_1946\\n56,62226,62519,Experimental_6_0_62226\\n57,31317,32522,Sham_15_3_31317\\n58,65038,65483,Sham_7_1_64994\\n'"
      ]
     },
     "execution_count": 7,
     "metadata": {},
     "output_type": "execute_result"
    }
   ],
   "source": [
    "df_window  = pd.DataFrame({\"start_frame\": start_list, \"end_frame\": end_list, \"name\": name_list})\n",
    "df_window = df_window[[\"start_frame\", \"end_frame\", \"name\"]]\n",
    "df_window.to_csv()"
   ]
  },
  {
   "cell_type": "code",
   "execution_count": 8,
   "metadata": {},
   "outputs": [],
   "source": [
    "df_window = df_window[[\"start_frame\", \"end_frame\", \"name\"]]\n",
    "df_window.to_csv(window + \"//filteredFrameWindow.csv\")"
   ]
  },
  {
   "cell_type": "code",
   "execution_count": null,
   "metadata": {},
   "outputs": [],
   "source": []
  }
 ],
 "metadata": {
  "kernelspec": {
   "display_name": "Python 3",
   "language": "python",
   "name": "python3"
  },
  "language_info": {
   "codemirror_mode": {
    "name": "ipython",
    "version": 3
   },
   "file_extension": ".py",
   "mimetype": "text/x-python",
   "name": "python",
   "nbconvert_exporter": "python",
   "pygments_lexer": "ipython3",
   "version": "3.6.4"
  }
 },
 "nbformat": 4,
 "nbformat_minor": 2
}
