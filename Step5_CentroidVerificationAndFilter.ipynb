{
 "cells": [
  {
   "cell_type": "code",
   "execution_count": 1,
   "metadata": {},
   "outputs": [],
   "source": [
    "import time\n",
    "import numpy as np\n",
    "import cv2\n",
    "import pandas as pd\n",
    "import matplotlib.pyplot as plt\n",
    "from scipy import signal\n",
    "import os, errno\n",
    "import glob"
   ]
  },
  {
   "cell_type": "code",
   "execution_count": 27,
   "metadata": {},
   "outputs": [],
   "source": [
    "source = r\"C:\\Users\\Daniellab\\Desktop\\Jorge_Analysis\\Centroids_Relevant\"\n",
    "window = r\"C:\\Users\\Daniellab\\Desktop\\Jorge_Analysis\\In_Out_Refined\"\n",
    "outpath = r\"C:\\Users\\Daniellab\\Desktop\\Jorge_Analysis\\Centroid_Filtered\""
   ]
  },
  {
   "cell_type": "code",
   "execution_count": 28,
   "metadata": {},
   "outputs": [
    {
     "data": {
      "text/plain": [
       "'Experimental_1_0_52688.csv'"
      ]
     },
     "execution_count": 28,
     "metadata": {},
     "output_type": "execute_result"
    }
   ],
   "source": [
    "csv_list = glob.glob(source + \"\\\\*.csv\")\n",
    "csv_list = csv_list[:8] + csv_list[:]"
   ]
  },
  {
   "cell_type": "code",
   "execution_count": 35,
   "metadata": {},
   "outputs": [
    {
     "name": "stdout",
     "output_type": "stream",
     "text": [
      "Experimental_1_0_52688 53391\n",
      "[  0   1 471 472 473 475 476 477 478 479 480 482 483 484 485 486 487 696\n",
      " 697 698 699 700 701 702 703]\n",
      "Experimental_4_1_72340 72750\n",
      "[0 1 2 3]\n",
      "Experimental_7_0_36526 36805\n",
      "[  0   1   2   3   4   5   6   7   8   9  10  11  12  13  14  15  16  17\n",
      " 274 275 276 277 278 279]\n",
      "Experimental_7_1_36846 37266\n",
      "[  0   1   2 418 419 420]\n",
      "Experimental_7_2_40443 40717\n",
      "[  0   1 269 270 271 274]\n",
      "Experimental_7_3_41552 41909\n",
      "[  0   1   2 353 354 355 356 357]\n",
      "Experimental_7_4_54607 54961\n",
      "[  0   1   2   3   4 350 351 352 353 354]\n",
      "Sham_10_0_2935 23638\n",
      "[20698 20699 20700 20701 20702 20703]\n",
      "Sham_14_1_2773 24216\n",
      "[21433 21434 21435 21441 21442 21443]\n",
      "Sham_16_8_29633 31062\n",
      "[1413 1414 1415 1416 1417 1418 1419 1420 1421 1422 1423 1424 1425 1426\n",
      " 1427 1428 1429]\n",
      "Sham_16_9_31431 31801\n",
      "[  0   1   2   3   4   5   6   7   8   9  10  11  12  13  14  16  17  18\n",
      "  20  21  22  24  25  26  28  29  30  32  33  34 296 297 298 299 300 301\n",
      " 302 303 304 305 306 307 308 309 310 311 312 313 314 315 316 317 318 340\n",
      " 341 342 343 344 345 346 347 348 349 350 351 352 353 354 355 356 357 358\n",
      " 359 360 361 362 363 364 365 366 367 368 369 370]\n",
      "Sham_17_0_1417 1900\n",
      "[0]\n",
      "Sham_7_0_63837 64125\n",
      "[231 232 233 234 235 236 237 239 240 241 242 243 244 245 246 247 248 249\n",
      " 250 251 252 253 254 255 256 257 258 259 260 261 262]\n",
      "Sham_7_1_64994 65483\n",
      "[ 0 34 35 36 38 39 40 41 42 43]\n"
     ]
    }
   ],
   "source": [
    "i = 0\n",
    "for element in csv_list:\n",
    "    df = pd.read_csv(source + \"\\\\\" + element[61:])\n",
    "    if np.any(df.X_position.isnull()):\n",
    "        print(element[61:-4], df.FrameNumber.values[-1])\n",
    "        print(np.asarray(np.where(df.X_position.isnull())).ravel())\n",
    "        i+=1"
   ]
  },
  {
   "cell_type": "code",
   "execution_count": null,
   "metadata": {},
   "outputs": [],
   "source": []
  }
 ],
 "metadata": {
  "kernelspec": {
   "display_name": "Python 3",
   "language": "python",
   "name": "python3"
  },
  "language_info": {
   "codemirror_mode": {
    "name": "ipython",
    "version": 3
   },
   "file_extension": ".py",
   "mimetype": "text/x-python",
   "name": "python",
   "nbconvert_exporter": "python",
   "pygments_lexer": "ipython3",
   "version": "3.7.1"
  }
 },
 "nbformat": 4,
 "nbformat_minor": 2
}
