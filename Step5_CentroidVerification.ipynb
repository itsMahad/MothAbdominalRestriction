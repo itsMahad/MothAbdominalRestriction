{
 "cells": [
  {
   "cell_type": "code",
   "execution_count": 1,
   "metadata": {},
   "outputs": [],
   "source": [
    "import time\n",
    "import numpy as np\n",
    "import cv2\n",
    "import pandas as pd\n",
    "import matplotlib.pyplot as plt\n",
    "from scipy import signal\n",
    "import os, errno\n",
    "import glob"
   ]
  },
  {
   "cell_type": "code",
   "execution_count": 2,
   "metadata": {},
   "outputs": [],
   "source": [
    "source = r\"/Users/Mahad/Downloads/drive-download-20200317T004709Z-001/Centroids_Relevant\"\n",
    "outpath = r\"/Users/Mahad/Downloads/drive-download-20200317T004709Z-001/Centroids_Trimmed\"\n",
    "window = r\"/Users/Mahad/Downloads/drive-download-20200317T004709Z-001/Centroids_Trimmed/Window\""
   ]
  },
  {
   "cell_type": "code",
   "execution_count": 3,
   "metadata": {},
   "outputs": [],
   "source": [
    "csv_list = glob.glob(source + \"//*.csv\")"
   ]
  },
  {
   "cell_type": "code",
   "execution_count": 4,
   "metadata": {},
   "outputs": [],
   "source": [
    "new_list = []\n",
    "for element in csv_list:\n",
    "    df = pd.read_csv(source + \"//\" + element[78:])\n",
    "    if len(df.X_position.values) < 2000 and not element[78:].startswith(\"Sham_18\") and not element[78:].startswith('Sham_10_0') and not element[78:].startswith('Sham_14_1') and not element[78:].startswith('Sham_17_0'):\n",
    "        \n",
    "        new_list.append(element)"
   ]
  },
  {
   "cell_type": "code",
   "execution_count": 5,
   "metadata": {},
   "outputs": [
    {
     "name": "stdout",
     "output_type": "stream",
     "text": [
      "Experimental_7_4_54607 [  0   1   2   3   4 350 351 352 353 354]\n",
      "Experimental_7_1_36846 [  0   1   2 418 419 420]\n",
      "Sham_16_9_31431 [  0   1   2   3   4   5   6   7   8   9  10  11  12  13  14  16  17  18\n",
      "  20  21  22  24  25  26  28  29  30  32  33  34 296 297 298 299 300 301\n",
      " 302 303 304 305 306 307 308 309 310 311 312 313 314 315 316 317 318 340\n",
      " 341 342 343 344 345 346 347 348 349 350 351 352 353 354 355 356 357 358\n",
      " 359 360 361 362 363 364 365 366 367 368 369 370]\n",
      "Experimental_7_3_41552 [  0   1   2 353 354 355 356 357]\n",
      "Experimental_4_1_72340 [0 1 2 3]\n",
      "Sham_16_8_29633 [1413 1414 1415 1416 1417 1418 1419 1420 1421 1422 1423 1424 1425 1426\n",
      " 1427 1428 1429]\n",
      "Sham_7_0_63837 [231 232 233 234 235 236 237 239 240 241 242 243 244 245 246 247 248 249\n",
      " 250 251 252 253 254 255 256 257 258 259 260 261 262]\n",
      "Experimental_7_0_36526 [  0   1   2   3   4   5   6   7   8   9  10  11  12  13  14  15  16  17\n",
      " 274 275 276 277 278 279]\n",
      "Experimental_1_0_52688 [  0   1 471 472 473 475 476 477 478 479 480 482 483 484 485 486 487 696\n",
      " 697 698 699 700 701 702 703]\n",
      "Experimental_7_2_40443 [  0   1 269 270 271 274]\n",
      "Sham_7_1_64994 [ 0 34 35 36 38 39 40 41 42 43]\n"
     ]
    }
   ],
   "source": [
    "start_list = []\n",
    "end_list = []\n",
    "name_list = []\n",
    "for element in new_list:\n",
    "    df = pd.read_csv(source + \"//\" + element[78:])\n",
    "   \n",
    "    start, end = 0, len(df.X_position.values)\n",
    "    if np.any(df.X_position.isnull()):\n",
    "        print(element[78:-4], np.asarray(np.where(df.X_position.isnull())).ravel())\n",
    "        a = np.asarray(np.where(df.X_position.isnull())).ravel()\n",
    "        b = a[1:]\n",
    "        c = a[:-1]\n",
    "        d = b-c\n",
    "        if element[78:].startswith(\"Experimental_1_0\"):\n",
    "            start = 488 \n",
    "            end = 696\n",
    "        elif (len(df.X_position.values) - a[-1]) > 40:\n",
    "            start = a[-1] + 1\n",
    "            end = len(df.X_position.values)\n",
    "            \n",
    "        elif max(d) > 5:\n",
    "            start = a[np.argmax(d)]+1\n",
    "            end = a[np.argmax(d)+1]\n",
    "\n",
    "        \n",
    "        else:\n",
    "            if a[0] == 0:\n",
    "                start = a[-1] + 1\n",
    "                end = len(df.X_position)\n",
    "\n",
    "            else:\n",
    "                start = 0\n",
    "                end = a[0]\n",
    "\n",
    "    new_df = df[start:end]\n",
    "    start_list.append(new_df.FrameNumber.values[0])\n",
    "    end_list.append(new_df.FrameNumber.values[-1])\n",
    "    name_list.append(element[78:-4])\n",
    "    new_df = new_df.reset_index()\n",
    "    new_df = new_df.drop(columns=['Unnamed: 0', 'index'])\n",
    "    new_df.to_csv(outpath + \"//\" + element[78:])"
   ]
  },
  {
   "cell_type": "code",
   "execution_count": 6,
   "metadata": {},
   "outputs": [],
   "source": [
    "df_window  = pd.DataFrame({\"start_frame\": start_list, \"end_frame\": end_list, \"name\": name_list})\n",
    "df_window = df_window[[\"start_frame\", \"end_frame\", \"name\"]]"
   ]
  },
  {
   "cell_type": "code",
   "execution_count": 7,
   "metadata": {},
   "outputs": [],
   "source": [
    "df_window.to_csv(window + \"//filteredFrameWindow.csv\")"
   ]
  },
  {
   "cell_type": "code",
   "execution_count": null,
   "metadata": {},
   "outputs": [],
   "source": []
  }
 ],
 "metadata": {
  "kernelspec": {
   "display_name": "Python 3",
   "language": "python",
   "name": "python3"
  },
  "language_info": {
   "codemirror_mode": {
    "name": "ipython",
    "version": 3
   },
   "file_extension": ".py",
   "mimetype": "text/x-python",
   "name": "python",
   "nbconvert_exporter": "python",
   "pygments_lexer": "ipython3",
   "version": "3.6.4"
  }
 },
 "nbformat": 4,
 "nbformat_minor": 2
}
