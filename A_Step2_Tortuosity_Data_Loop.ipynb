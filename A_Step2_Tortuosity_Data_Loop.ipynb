{
 "cells": [
  {
   "cell_type": "code",
   "execution_count": 7,
   "metadata": {},
   "outputs": [],
   "source": [
    "from matplotlib import pyplot as plt\n",
    "%matplotlib inline\n",
    "from matplotlib import style\n",
    "style.use('seaborn-talk')\n",
    "import numpy as np\n",
    "import pandas as pd\n",
    "from scipy.fftpack import fft\n",
    "import glob"
   ]
  },
  {
   "cell_type": "code",
   "execution_count": 2,
   "metadata": {},
   "outputs": [],
   "source": [
    "outpath = r'C:\\Users\\Daniellab\\Desktop\\Jorge_Analysis\\Tortuosity\\chunking'\n",
    "figpath = r'C:\\Users\\Daniellab\\Desktop\\Jorge_Analysis\\Tortuosity\\chunking\\figures'\n",
    "source = r'C:\\Users\\Daniellab\\Desktop\\Jorge_Analysis\\Centroids_Final\\Raw_NG'"
   ]
  },
  {
   "cell_type": "code",
   "execution_count": 12,
   "metadata": {},
   "outputs": [],
   "source": [
    "#sample data such that there are no NaNs within each path and that each path is greater than 100 frames (fft cannot tolerate NaNs, is removing better than smoothening?)\n",
    "def removeNaN(df): \n",
    "    if np.any(df.X_position.isnull()):\n",
    "        a = np.asarray(np.where(df.X_position.isnull())).ravel()\n",
    "        b = a[1:]\n",
    "        c = a[:-1]\n",
    "        d = b-c\n",
    "        last_chunk = len(df.X_position) - a[-1]\n",
    "\n",
    "\n",
    "        if last_chunk > 100:\n",
    "\n",
    "            start = a[-1]+1\n",
    "            end = a[-1] + last_chunk-1\n",
    "\n",
    "        elif a[0] > 100:\n",
    "            start = 0\n",
    "            end = a[0]-1\n",
    "\n",
    "\n",
    "        elif d.max() > 100:\n",
    "            e = d.argmax()\n",
    "            start = a[e]+1\n",
    "            end = a[e+1]-1\n",
    "\n",
    "        else:\n",
    "            print('error')\n",
    "    \n",
    "        time = df.FrameNumber.values[start:end]\n",
    "        x_no_nan = df.X_position.values[start:end]\n",
    "        y_no_nan = df.Y_position.values[start:end]\n",
    "        return(x_no_nan, y_no_nan,  time)\n",
    "    else:\n",
    "        x = df.X_position.values\n",
    "        y = df.Y_position.values\n",
    "        time = df.FrameNumber.values\n",
    "        return(x,y, time)"
   ]
  },
  {
   "cell_type": "code",
   "execution_count": 5,
   "metadata": {},
   "outputs": [],
   "source": [
    "def Tortuosity(x, time):\n",
    "    \n",
    "    \n",
    "    t = time/100\n",
    "    \n",
    "    Nx = len(x)  #number of points\n",
    "    Nt = Nx\n",
    "    Time = t[-1]-t[0]   #total sample time (in seconds)c\n",
    "    fs = Nx/Time   # sample frequency\n",
    "    TT = 1/fs  #delta t.\n",
    " \n",
    "    meanx = np.mean(x)\n",
    "    \n",
    "    # . fftxvel is complex with real and imaginary part.\n",
    "    #Nyquist spacing (first half of Fourier) -- the list of frequencies for which we have Fourier coefficients\n",
    "    fftx = fft(x-meanx)    # this is the Fourier tranform of the x velocity\n",
    "    xf = np.linspace(0.0, 1.0/(2.0*TT), Nx//2)  \n",
    "\n",
    "    \n",
    "    return xf, Nx, fftx"
   ]
  },
  {
   "cell_type": "code",
   "execution_count": 8,
   "metadata": {},
   "outputs": [
    {
     "name": "stdout",
     "output_type": "stream",
     "text": [
      "52\n"
     ]
    }
   ],
   "source": [
    "csv_list = glob.glob(source + '\\*Centroid*.csv')\n",
    "print(len(csv_list))"
   ]
  },
  {
   "cell_type": "code",
   "execution_count": 1,
   "metadata": {},
   "outputs": [
    {
     "ename": "NameError",
     "evalue": "name 'plt' is not defined",
     "output_type": "error",
     "traceback": [
      "\u001b[1;31m---------------------------------------------------------------------------\u001b[0m",
      "\u001b[1;31mNameError\u001b[0m                                 Traceback (most recent call last)",
      "\u001b[1;32m<ipython-input-1-f5e17271f932>\u001b[0m in \u001b[0;36m<module>\u001b[1;34m\u001b[0m\n\u001b[0;32m     12\u001b[0m \u001b[0mwindow\u001b[0m \u001b[1;33m=\u001b[0m \u001b[1;33m[\u001b[0m\u001b[1;33m]\u001b[0m\u001b[1;33m\u001b[0m\u001b[1;33m\u001b[0m\u001b[0m\n\u001b[0;32m     13\u001b[0m \u001b[0mvisit_number_list\u001b[0m \u001b[1;33m=\u001b[0m \u001b[1;33m[\u001b[0m\u001b[1;33m]\u001b[0m\u001b[1;33m\u001b[0m\u001b[1;33m\u001b[0m\u001b[0m\n\u001b[1;32m---> 14\u001b[1;33m \u001b[0mf\u001b[0m\u001b[1;33m,\u001b[0m \u001b[0max\u001b[0m \u001b[1;33m=\u001b[0m \u001b[0mplt\u001b[0m\u001b[1;33m.\u001b[0m\u001b[0msubplots\u001b[0m\u001b[1;33m(\u001b[0m\u001b[1;36m1\u001b[0m\u001b[1;33m,\u001b[0m\u001b[1;36m1\u001b[0m\u001b[1;33m,\u001b[0m \u001b[0mfigsize\u001b[0m \u001b[1;33m=\u001b[0m \u001b[1;33m(\u001b[0m\u001b[1;36m20\u001b[0m\u001b[1;33m,\u001b[0m\u001b[1;36m10\u001b[0m\u001b[1;33m)\u001b[0m\u001b[1;33m,\u001b[0m \u001b[0msharex\u001b[0m \u001b[1;33m=\u001b[0m \u001b[1;32mTrue\u001b[0m\u001b[1;33m,\u001b[0m \u001b[0msharey\u001b[0m \u001b[1;33m=\u001b[0m \u001b[1;32mTrue\u001b[0m\u001b[1;33m)\u001b[0m\u001b[1;33m\u001b[0m\u001b[1;33m\u001b[0m\u001b[0m\n\u001b[0m\u001b[0;32m     15\u001b[0m \u001b[1;33m\u001b[0m\u001b[0m\n\u001b[0;32m     16\u001b[0m \u001b[1;32mfor\u001b[0m \u001b[0melement\u001b[0m \u001b[1;32min\u001b[0m \u001b[0mcsv_list\u001b[0m\u001b[1;33m[\u001b[0m\u001b[1;33m:\u001b[0m\u001b[1;36m4\u001b[0m\u001b[1;33m]\u001b[0m\u001b[1;33m:\u001b[0m\u001b[1;33m\u001b[0m\u001b[1;33m\u001b[0m\u001b[0m\n",
      "\u001b[1;31mNameError\u001b[0m: name 'plt' is not defined"
     ]
    }
   ],
   "source": [
    "name_list = []\n",
    "xf_list = []\n",
    "Nx_list = []\n",
    "fft_Cxvel_list = []\n",
    "stdxv_list = []\n",
    "meanxv_list = []\n",
    "turb_intens_list = []\n",
    "conditioned_xvel_list = []\n",
    "xvel = []\n",
    "yvel = []\n",
    "t = []\n",
    "window = []\n",
    "visit_number_list = []\n",
    "f, ax = plt.subplots(1,1, figsize = (20,10), sharex = True, sharey = True)\n",
    "\n",
    "for element in csv_list[:4]:\n",
    "    df = pd.read_csv(element)\n",
    "    x, y, time = removeNaN(df)\n",
    "    \n",
    "    visit_number = df.visit_number[0]\n",
    "    \n",
    "    xf, Nx, fftx = Tortuosity(x, time)\n",
    "    yf, Ny, ffty = Tortuosity(y, time)\n",
    "\n",
    "    name_list.append(element[81:-4])\n",
    "    \n",
    "#     xf_list.append(xf)\n",
    "#     Nx_list.append(Nx)\n",
    "#     fft_Cxvel_list.append(fft_Cxvel)\n",
    "#     stdxv_list.append(stdxv)\n",
    "#     meanxv_list.append(meanxv)\n",
    "#     turb_intens_list.append(turb_intens)\n",
    "#     conditioned_xvel_list.append(conditioned_xvel)\n",
    "#     visit_number_list.append(visit_number)\n",
    "    \n",
    "    \n",
    "    sum_xy = (2.0/Ny * np.abs(ffty[0:Ny//2]) + 2.0/Nx * np.abs(fftx[0:Nx//2]))\n",
    "    ax.plot(yf, sum_xy, \"-o\")\n",
    "    ax.set_ylim(0,300)\n",
    "    \n",
    "#     fig.title(element[81:-4])\n",
    "#     plt.savefig(figpath + \"\\\\\" + element[81:-4] + '_x.png')\n",
    "#     plt.show()   \n",
    "#     sb.set()"
   ]
  },
  {
   "cell_type": "code",
   "execution_count": 14,
   "metadata": {},
   "outputs": [
    {
     "data": {
      "text/plain": [
       "['Experimental_1',\n",
       " 'Experimental_1',\n",
       " 'Experimental_1',\n",
       " 'Experimental_2',\n",
       " 'Experimental_3',\n",
       " 'Experimental_4',\n",
       " 'Experimental_4',\n",
       " 'Experimental_5',\n",
       " 'Experimental_7',\n",
       " 'Experimental_7',\n",
       " 'Experimental_7',\n",
       " 'Experimental_7',\n",
       " 'Sham_10',\n",
       " 'Sham_11',\n",
       " 'Sham_14',\n",
       " 'Sham_14',\n",
       " 'Sham_15',\n",
       " 'Sham_16',\n",
       " 'Sham_17',\n",
       " 'Sham_1',\n",
       " 'Sham_1',\n",
       " 'Sham_1',\n",
       " 'Sham_1',\n",
       " 'Sham_1',\n",
       " 'Sham_2',\n",
       " 'Sham_2',\n",
       " 'Sham_3',\n",
       " 'Sham_3',\n",
       " 'Sham_3',\n",
       " 'Sham_4',\n",
       " 'Sham_4',\n",
       " 'Sham_4',\n",
       " 'Sham_6',\n",
       " 'Sham_6',\n",
       " 'Sham_6',\n",
       " 'Sham_6',\n",
       " 'Sham_6',\n",
       " 'Sham_7',\n",
       " 'Sham_7',\n",
       " 'Sham_7',\n",
       " 'Sham_7',\n",
       " 'Sham_7',\n",
       " 'Sham_7',\n",
       " 'Sham_7']"
      ]
     },
     "execution_count": 14,
     "metadata": {},
     "output_type": "execute_result"
    }
   ],
   "source": [
    "name_list_ = []\n",
    "for name in name_list:\n",
    "    if name.startswith('L0.1_c-3_m'):\n",
    "        name = name[:12]\n",
    "        if name.endswith('_'):\n",
    "            name = name[:-1]\n",
    "        \n",
    "    elif name.startswith('Sham'):\n",
    "        name = name[:7]\n",
    "        if name.endswith('_'):\n",
    "            name = name[:-1]\n",
    "    elif name.startswith('Experimental'):\n",
    "        name = name[:15]\n",
    "        if name.endswith('_'):\n",
    "            name = name[:-1]\n",
    "    \n",
    "    name_list_.append(name)\n",
    "#     print(name)\n",
    "name_list = name_list_\n",
    "name_list"
   ]
  },
  {
   "cell_type": "code",
   "execution_count": 15,
   "metadata": {},
   "outputs": [
    {
     "data": {
      "text/plain": [
       "(44, 44, 44, 44, 44, 44)"
      ]
     },
     "execution_count": 15,
     "metadata": {},
     "output_type": "execute_result"
    }
   ],
   "source": [
    "len(name_list), len(Nx_list), len(name_list), len(stdxv_list), len(meanyv_list), len(turb_intens_list)"
   ]
  },
  {
   "cell_type": "code",
   "execution_count": 16,
   "metadata": {},
   "outputs": [],
   "source": [
    "condition = [\"Experimental\"]*12\n",
    "condition.extend([\"Sham\"]*32)\n",
    "new_df = (pd.DataFrame({'name' : name_list, 'Nx' : Nx_list,\n",
    "                            'stdxv': stdxv_list, 'meanxv' : meanxv_list\n",
    "                       ,'turb_intens' : turb_intens_list, 'condition': condition, 'visit_number': visit_number_list}))\n",
    "other_df = (pd.DataFrame({'xf' : xf_list, 'fft_Cxvel': fft_Cxvel_list, 'filterd_xvel' : conditioned_xvel_list}))\n",
    "\n"
   ]
  },
  {
   "cell_type": "code",
   "execution_count": 17,
   "metadata": {},
   "outputs": [],
   "source": [
    "new_y_df = (pd.DataFrame({'name' : name_list, 'Ny' : Ny_list,\n",
    "                            'stdyv': stdyv_list, 'meanyv' : meanyv_list\n",
    "                       ,'turb_intens' : turb_y_intens_list, 'condition': condition, 'visit_number': visit_number_ylist}))\n",
    "other_y_df = (pd.DataFrame({'yf' : yf_list, 'fft_Cyvel': fft_Cyvel_list, 'filterd_yvel' : conditioned_yvel_list}))"
   ]
  },
  {
   "cell_type": "code",
   "execution_count": 18,
   "metadata": {},
   "outputs": [],
   "source": [
    "new_df.to_csv(r\"C:\\Users\\Daniellab\\Desktop\\Jorge_Analysis\\Tortuosity\\bad_videos_removed\" + r\"\\Tortuosity_Single_removed.csv\")\n",
    "other_df.to_csv(r\"C:\\Users\\Daniellab\\Desktop\\Jorge_Analysis\\Tortuosity\\bad_videos_removed\" + r\"\\tortuosity_Longer.csv\")"
   ]
  },
  {
   "cell_type": "code",
   "execution_count": 19,
   "metadata": {},
   "outputs": [],
   "source": [
    "new_y_df.to_csv(r\"C:\\Users\\Daniellab\\Desktop\\Jorge_Analysis\\Tortuosity\\bad_videos_removed\" + r\"\\Tortuosity_y_Single_removed.csv\")\n",
    "other_y_df.to_csv(r\"C:\\Users\\Daniellab\\Desktop\\Jorge_Analysis\\Tortuosity\\bad_videos_removed\" + r\"\\tortuosity_y_Longer.csv\")"
   ]
  },
  {
   "cell_type": "code",
   "execution_count": 20,
   "metadata": {},
   "outputs": [
    {
     "data": {
      "text/plain": [
       "0     Experimental_1\n",
       "1     Experimental_1\n",
       "2     Experimental_1\n",
       "3     Experimental_2\n",
       "4     Experimental_2\n",
       "5     Experimental_3\n",
       "6     Experimental_4\n",
       "7     Experimental_4\n",
       "8     Experimental_5\n",
       "9     Experimental_5\n",
       "10    Experimental_7\n",
       "11    Experimental_7\n",
       "12    Experimental_7\n",
       "13    Experimental_7\n",
       "14           Sham_10\n",
       "15           Sham_11\n",
       "16           Sham_11\n",
       "17           Sham_14\n",
       "18           Sham_14\n",
       "19           Sham_15\n",
       "20           Sham_15\n",
       "21           Sham_15\n",
       "22           Sham_15\n",
       "23           Sham_15\n",
       "24           Sham_16\n",
       "25           Sham_16\n",
       "26           Sham_17\n",
       "27           Sham_18\n",
       "28            Sham_1\n",
       "29            Sham_1\n",
       "30            Sham_1\n",
       "31            Sham_1\n",
       "32            Sham_1\n",
       "33            Sham_1\n",
       "34            Sham_1\n",
       "35            Sham_2\n",
       "36            Sham_2\n",
       "37            Sham_2\n",
       "38            Sham_3\n",
       "39            Sham_3\n",
       "40            Sham_3\n",
       "41            Sham_4\n",
       "42            Sham_4\n",
       "43            Sham_4\n",
       "44            Sham_6\n",
       "45            Sham_6\n",
       "46            Sham_6\n",
       "47            Sham_6\n",
       "48            Sham_6\n",
       "49            Sham_6\n",
       "50            Sham_7\n",
       "51            Sham_7\n",
       "52            Sham_7\n",
       "53            Sham_7\n",
       "54            Sham_7\n",
       "55            Sham_7\n",
       "56            Sham_7\n",
       "Name: name, dtype: object"
      ]
     },
     "execution_count": 20,
     "metadata": {},
     "output_type": "execute_result"
    }
   ],
   "source": [
    "df = pd.read_csv(outpath + \"\\Tortuosity_Single.csv\")\n",
    "\n",
    "name_list = df.name\n",
    "\n",
    "\n",
    "name_list"
   ]
  },
  {
   "cell_type": "code",
   "execution_count": 21,
   "metadata": {},
   "outputs": [
    {
     "name": "stdout",
     "output_type": "stream",
     "text": [
      "57\n"
     ]
    }
   ],
   "source": [
    "df_y = pd.read_csv(outpath + \"\\Tortuosity_y_Single.csv\")\n",
    "\n",
    "\n",
    "name_y_list = df_y.name\n",
    "\n",
    "print(len(name_y_list))"
   ]
  }
 ],
 "metadata": {
  "kernelspec": {
   "display_name": "Python 3",
   "language": "python",
   "name": "python3"
  },
  "language_info": {
   "codemirror_mode": {
    "name": "ipython",
    "version": 3
   },
   "file_extension": ".py",
   "mimetype": "text/x-python",
   "name": "python",
   "nbconvert_exporter": "python",
   "pygments_lexer": "ipython3",
   "version": "3.7.1"
  }
 },
 "nbformat": 4,
 "nbformat_minor": 2
}
