{
 "cells": [
  {
   "cell_type": "code",
   "execution_count": 50,
   "metadata": {},
   "outputs": [],
   "source": [
    "import time\n",
    "import numpy as np\n",
    "import cv2\n",
    "import pandas as pd\n",
    "import matplotlib.pyplot as plt\n",
    "from scipy import signal\n",
    "import os, errno\n",
    "import glob"
   ]
  },
  {
   "cell_type": "code",
   "execution_count": 51,
   "metadata": {},
   "outputs": [],
   "source": [
    "source = r\"/Users/Mahad/Downloads/drive-download-20200317T004709Z-001/Centroids_Relevant\"\n",
    "outpath = r\"/Users/Mahad/Downloads/drive-download-20200317T004709Z-001/Centroids_Trimmed\"\n",
    "window = r\"/Users/Mahad/Downloads/drive-download-20200317T004709Z-001/Centroids_Trimmed/Window\""
   ]
  },
  {
   "cell_type": "code",
   "execution_count": 52,
   "metadata": {},
   "outputs": [],
   "source": [
    "csv_list = glob.glob(source + \"//*.csv\")"
   ]
  },
  {
   "cell_type": "code",
   "execution_count": 53,
   "metadata": {},
   "outputs": [],
   "source": [
    "new_list = []\n",
    "for element in csv_list:\n",
    "    df = pd.read_csv(source + \"//\" + element[78:])\n",
    "    if len(df.X_position.values) < 2000 and not element[78:].startswith(\"Sham_18\") and not element[78:].startswith('Sham_10_0') and not element[78:].startswith('Sham_14_1') and not element[78:].startswith('Sham_17_0'):\n",
    "        \n",
    "        new_list.append(element)"
   ]
  },
  {
   "cell_type": "code",
   "execution_count": 54,
   "metadata": {},
   "outputs": [
    {
     "data": {
      "text/plain": [
       "(17, 59, 42)"
      ]
     },
     "execution_count": 54,
     "metadata": {},
     "output_type": "execute_result"
    }
   ],
   "source": [
    "#these visits are removed for being false positives after manually viewing their sections in their respective videos\n",
    "\n",
    "removal_list = [\"/Users/Mahad/Downloads/drive-download-20200317T004709Z-001/Centroids_Relevant/Experimental_2_0_3685.csv\", \n",
    "\"/Users/Mahad/Downloads/drive-download-20200317T004709Z-001/Centroids_Relevant/Experimental_4_0_66232.csv\",\n",
    "\"/Users/Mahad/Downloads/drive-download-20200317T004709Z-001/Centroids_Relevant/Experimental_6_1_63495.csv\",\n",
    "\"/Users/Mahad/Downloads/drive-download-20200317T004709Z-001/Centroids_Relevant/Experimental_6_0_62226.csv\",\n",
    "\"/Users/Mahad/Downloads/drive-download-20200317T004709Z-001/Centroids_Relevant/Sham_1_0_11444.csv\",\n",
    "\n",
    "\"/Users/Mahad/Downloads/drive-download-20200317T004709Z-001/Centroids_Relevant/Sham_13_6_69872.csv\",\n",
    "\"/Users/Mahad/Downloads/drive-download-20200317T004709Z-001/Centroids_Relevant/Sham_1_3_16654.csv\",\n",
    "\"/Users/Mahad/Downloads/drive-download-20200317T004709Z-001/Centroids_Relevant/Sham_1_1_14767.csv\",\n",
    "\"/Users/Mahad/Downloads/drive-download-20200317T004709Z-001/Centroids_Relevant/Sham_15_0_2178.csv\",\n",
    "\"/Users/Mahad/Downloads/drive-download-20200317T004709Z-001/Centroids_Relevant/Sham_13_4_66540.csv\",\n",
    "\"/Users/Mahad/Downloads/drive-download-20200317T004709Z-001/Centroids_Relevant/Sham_10_1_45293.csv\",\n",
    "\"/Users/Mahad/Downloads/drive-download-20200317T004709Z-001/Centroids_Relevant/Sham_16_9_31431.csv\",\n",
    "\"/Users/Mahad/Downloads/drive-download-20200317T004709Z-001/Centroids_Relevant/Sham_12_4_68328.csv\",\n",
    "\"/Users/Mahad/Downloads/drive-download-20200317T004709Z-001/Centroids_Relevant/Sham_12_2_57478.csv\",\n",
    "\"/Users/Mahad/Downloads/drive-download-20200317T004709Z-001/Centroids_Relevant/Sham_13_5_67837.csv\",\n",
    "\"/Users/Mahad/Downloads/drive-download-20200317T004709Z-001/Centroids_Relevant/Sham_16_8_29633.csv\",\n",
    "\"/Users/Mahad/Downloads/drive-download-20200317T004709Z-001/Centroids_Relevant/Sham_15_1_2857.csv\",\n",
    "\"/Users/Mahad/Downloads/drive-download-20200317T004709Z-001/Centroids_Relevant/Sham_6_1_153286.csv\",\n",
    "\"/Users/Mahad/Downloads/drive-download-20200317T004709Z-001/Centroids_Relevant/Sham_17_2_64483.csv\",\n",
    "\"/Users/Mahad/Downloads/drive-download-20200317T004709Z-001/Centroids_Relevant/Sham_1_6_29010.csv\",\n",
    "\"/Users/Mahad/Downloads/drive-download-20200317T004709Z-001/Centroids_Relevant/Sham_10_2_83204.csv\",\n",
    "\"/Users/Mahad/Downloads/drive-download-20200317T004709Z-001/Centroids_Relevant/Sham_12_0_2202.csv\",\n",
    "\"/Users/Mahad/Downloads/drive-download-20200317T004709Z-001/Centroids_Relevant/Sham_13_2_62077.csv\",\n",
    "\"/Users/Mahad/Downloads/drive-download-20200317T004709Z-001/Centroids_Relevant/Sham_1_4_17684.csv\",\n",
    "\"/Users/Mahad/Downloads/drive-download-20200317T004709Z-001/Centroids_Relevant/Sham_16_0_1688.csv\",\n",
    "\"/Users/Mahad/Downloads/drive-download-20200317T004709Z-001/Centroids_Relevant/Sham_14_0_1946.csv\",\n",
    "   '/Users/Mahad/Downloads/drive-download-20200317T004709Z-001/Centroids_Relevant/Sham_1_0_11444.csv',\n",
    " '/Users/Mahad/Downloads/drive-download-20200317T004709Z-001/Centroids_Relevant/Sham_13_6_69872.csv',\n",
    " '/Users/Mahad/Downloads/drive-download-20200317T004709Z-001/Centroids_Relevant/Sham_1_9_31463.csv',\n",
    " '/Users/Mahad/Downloads/drive-download-20200317T004709Z-001/Centroids_Relevant/Sham_15_6_35161.csv',\n",
    " '/Users/Mahad/Downloads/drive-download-20200317T004709Z-001/Centroids_Relevant/Experimental_2_0_3685.csv',\n",
    " '/Users/Mahad/Downloads/drive-download-20200317T004709Z-001/Centroids_Relevant/Sham_15_0_2178.csv',\n",
    " '/Users/Mahad/Downloads/drive-download-20200317T004709Z-001/Centroids_Relevant/Sham_1_1_14767.csv',\n",
    " '/Users/Mahad/Downloads/drive-download-20200317T004709Z-001/Centroids_Relevant/Sham_15_5_33719.csv',\n",
    " '/Users/Mahad/Downloads/drive-download-20200317T004709Z-001/Centroids_Relevant/Sham_1_3_16654.csv',\n",
    " '/Users/Mahad/Downloads/drive-download-20200317T004709Z-001/Centroids_Relevant/Sham_9_1_74202.csv',\n",
    " '/Users/Mahad/Downloads/drive-download-20200317T004709Z-001/Centroids_Relevant/Sham_13_4_66540.csv',\n",
    " '/Users/Mahad/Downloads/drive-download-20200317T004709Z-001/Centroids_Relevant/Sham_1_2_15164.csv',\n",
    " '/Users/Mahad/Downloads/drive-download-20200317T004709Z-001/Centroids_Relevant/Sham_1_8_31076.csv',\n",
    " '/Users/Mahad/Downloads/drive-download-20200317T004709Z-001/Centroids_Relevant/Experimental_4_0_66232.csv',\n",
    " '/Users/Mahad/Downloads/drive-download-20200317T004709Z-001/Centroids_Relevant/Experimental_6_1_63495.csv',\n",
    " '/Users/Mahad/Downloads/drive-download-20200317T004709Z-001/Centroids_Relevant/Sham_16_2_3449.csv',\n",
    " '/Users/Mahad/Downloads/drive-download-20200317T004709Z-001/Centroids_Relevant/Sham_13_5_67837.csv',\n",
    " '/Users/Mahad/Downloads/drive-download-20200317T004709Z-001/Centroids_Relevant/Sham_12_2_57478.csv',\n",
    " '/Users/Mahad/Downloads/drive-download-20200317T004709Z-001/Centroids_Relevant/Sham_12_4_68328.csv',\n",
    " '/Users/Mahad/Downloads/drive-download-20200317T004709Z-001/Centroids_Relevant/Sham_16_1_2114.csv',\n",
    " '/Users/Mahad/Downloads/drive-download-20200317T004709Z-001/Centroids_Relevant/Sham_17_2_64483.csv',\n",
    " '/Users/Mahad/Downloads/drive-download-20200317T004709Z-001/Centroids_Relevant/Sham_6_1_153286.csv',\n",
    " '/Users/Mahad/Downloads/drive-download-20200317T004709Z-001/Centroids_Relevant/Experimental_2_1_16721.csv',\n",
    " '/Users/Mahad/Downloads/drive-download-20200317T004709Z-001/Centroids_Relevant/Sham_15_1_2857.csv',\n",
    " '/Users/Mahad/Downloads/drive-download-20200317T004709Z-001/Centroids_Relevant/Sham_15_7_45702.csv',\n",
    " '/Users/Mahad/Downloads/drive-download-20200317T004709Z-001/Centroids_Relevant/Sham_1_6_29010.csv',\n",
    " '/Users/Mahad/Downloads/drive-download-20200317T004709Z-001/Centroids_Relevant/Sham_1_5_28515.csv',\n",
    " '/Users/Mahad/Downloads/drive-download-20200317T004709Z-001/Centroids_Relevant/Sham_13_2_62077.csv',\n",
    " '/Users/Mahad/Downloads/drive-download-20200317T004709Z-001/Centroids_Relevant/Sham_12_0_2202.csv',\n",
    " '/Users/Mahad/Downloads/drive-download-20200317T004709Z-001/Centroids_Relevant/Sham_10_2_83204.csv',\n",
    " '/Users/Mahad/Downloads/drive-download-20200317T004709Z-001/Centroids_Relevant/Sham_15_4_32871.csv',\n",
    " '/Users/Mahad/Downloads/drive-download-20200317T004709Z-001/Centroids_Relevant/Sham_14_0_1946.csv',\n",
    " '/Users/Mahad/Downloads/drive-download-20200317T004709Z-001/Centroids_Relevant/Sham_16_0_1688.csv',\n",
    " '/Users/Mahad/Downloads/drive-download-20200317T004709Z-001/Centroids_Relevant/Sham_1_4_17684.csv',\n",
    " '/Users/Mahad/Downloads/drive-download-20200317T004709Z-001/Centroids_Relevant/Sham_1_7_30780.csv',\n",
    " '/Users/Mahad/Downloads/drive-download-20200317T004709Z-001/Centroids_Relevant/Sham_15_3_31317.csv',\n",
    " '/Users/Mahad/Downloads/drive-download-20200317T004709Z-001/Centroids_Relevant/Sham_16_4_6909.csv',\n",
    " '/Users/Mahad/Downloads/drive-download-20200317T004709Z-001/Centroids_Relevant/Sham_16_5_7297.csv',\n",
    " '/Users/Mahad/Downloads/drive-download-20200317T004709Z-001/Centroids_Relevant/Experimental_6_0_62226.csv',]\n",
    "newest_list = [elem for elem in new_list if elem not in removal_list]\n",
    "len(newest_list),len(new_list), len(set(removal_list))"
   ]
  },
  {
   "cell_type": "code",
   "execution_count": 55,
   "metadata": {},
   "outputs": [
    {
     "name": "stdout",
     "output_type": "stream",
     "text": [
      "Experimental_7_4_54607 [  0   1   2   3   4 350 351 352 353 354]\n",
      "Experimental_7_1_36846 [  0   1   2 418 419 420]\n",
      "Experimental_7_3_41552 [  0   1   2 353 354 355 356 357]\n",
      "Experimental_4_1_72340 [0 1 2 3]\n",
      "Sham_7_0_63837 [231 232 233 234 235 236 237 239 240 241 242 243 244 245 246 247 248 249\n",
      " 250 251 252 253 254 255 256 257 258 259 260 261 262]\n",
      "Experimental_7_0_36526 [  0   1   2   3   4   5   6   7   8   9  10  11  12  13  14  15  16  17\n",
      " 274 275 276 277 278 279]\n",
      "Experimental_1_0_52688 [  0   1 471 472 473 475 476 477 478 479 480 482 483 484 485 486 487 696\n",
      " 697 698 699 700 701 702 703]\n",
      "Experimental_7_2_40443 [  0   1 269 270 271 274]\n",
      "Sham_7_1_64994 [ 0 34 35 36 38 39 40 41 42 43]\n"
     ]
    }
   ],
   "source": [
    "start_list = []\n",
    "end_list = []\n",
    "name_list = []\n",
    "for element in newest_list:\n",
    "    df = pd.read_csv(source + \"//\" + element[78:])\n",
    "   \n",
    "    start, end = 0, len(df.X_position.values)\n",
    "    if np.any(df.X_position.isnull()):\n",
    "        print(element[78:-4], np.asarray(np.where(df.X_position.isnull())).ravel())\n",
    "        a = np.asarray(np.where(df.X_position.isnull())).ravel()\n",
    "        b = a[1:]\n",
    "        c = a[:-1]\n",
    "        d = b-c\n",
    "        if element[78:].startswith(\"Experimental_1_0\"):\n",
    "            start = 488 \n",
    "            end = 696\n",
    "        elif (len(df.X_position.values) - a[-1]) > 40:\n",
    "            start = a[-1] + 1\n",
    "            end = len(df.X_position.values)\n",
    "            \n",
    "        elif max(d) > 5:\n",
    "            start = a[np.argmax(d)]+1\n",
    "            end = a[np.argmax(d)+1]\n",
    "\n",
    "        \n",
    "        else:\n",
    "            if a[0] == 0:\n",
    "                start = a[-1] + 1\n",
    "                end = len(df.X_position)\n",
    "\n",
    "            else:\n",
    "                start = 0\n",
    "                end = a[0]\n",
    "\n",
    "    new_df = df[start:end]\n",
    "    start_list.append(new_df.FrameNumber.values[0])\n",
    "    end_list.append(new_df.FrameNumber.values[-1])\n",
    "    name_list.append(element[78:-4])\n",
    "    new_df = new_df.reset_index()\n",
    "    new_df = new_df.drop(columns=['Unnamed: 0', 'index'])\n",
    "    new_df.to_csv(outpath + \"//\" + element[78:])"
   ]
  },
  {
   "cell_type": "code",
   "execution_count": 56,
   "metadata": {},
   "outputs": [],
   "source": [
    "df_window  = pd.DataFrame({\"start_frame\": start_list, \"end_frame\": end_list, \"name\": name_list})\n",
    "df_window = df_window[[\"start_frame\", \"end_frame\", \"name\"]]"
   ]
  },
  {
   "cell_type": "code",
   "execution_count": 57,
   "metadata": {},
   "outputs": [],
   "source": [
    "df_window.to_csv(window + \"//filteredFrameWindow.csv\")"
   ]
  },
  {
   "cell_type": "code",
   "execution_count": null,
   "metadata": {},
   "outputs": [],
   "source": []
  }
 ],
 "metadata": {
  "kernelspec": {
   "display_name": "Python 3",
   "language": "python",
   "name": "python3"
  },
  "language_info": {
   "codemirror_mode": {
    "name": "ipython",
    "version": 3
   },
   "file_extension": ".py",
   "mimetype": "text/x-python",
   "name": "python",
   "nbconvert_exporter": "python",
   "pygments_lexer": "ipython3",
<<<<<<< HEAD
   "version": "3.7.6"
=======
   "version": "3.6.4"
>>>>>>> parent of 3064519... Update 4/7: Delete Redundant File
  }
 },
 "nbformat": 4,
 "nbformat_minor": 2
}
