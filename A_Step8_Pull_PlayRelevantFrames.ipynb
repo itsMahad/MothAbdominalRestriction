{
 "cells": [
  {
   "cell_type": "code",
   "execution_count": 1,
   "metadata": {},
   "outputs": [],
   "source": [
    "import time\n",
    "import numpy as np\n",
    "import cv2\n",
    "import pandas as pd\n",
    "import matplotlib.pyplot as plt\n",
    "from scipy import signal\n",
    "import os, errno\n",
    "import glob\n",
    "from scipy import stats"
   ]
  },
  {
   "cell_type": "code",
   "execution_count": 2,
   "metadata": {},
   "outputs": [],
   "source": [
    "def VideoPull(back_frame, current_frame, file_name, path):\n",
    "    video = [(os.path.join(root, file), file[0:-4]) \n",
    "        for root, dirs, files in os.walk(path) \n",
    "        for file in files \n",
    "        if file.endswith(file_name + '.mp4')]\n",
    "    cam = cv2.VideoCapture(video[0][0])\n",
    "    cam.set(1,back_frame)\n",
    "    ret, f = cam.read(1)\n",
    "    background = cv2.cvtColor(f, cv2.COLOR_BGR2GRAY)\n",
    "    cam.set(1,current_frame)\n",
    "    ret, c = cam.read(1)\n",
    "    current = cv2.cvtColor(c, cv2.COLOR_BGR2GRAY)\n",
    "    difference = cv2.subtract(current,background)\n",
    "\n",
    "    return background, current, difference, c"
   ]
  },
  {
   "cell_type": "code",
   "execution_count": 3,
   "metadata": {},
   "outputs": [],
   "source": [
    "def Frame(name, df):\n",
    "    start, end = df[df.name.str.contains(name)].start_frame.values, df[df.name.str.contains(name)].end_frame.values\n",
    "    end = [int(elem) for elem in end]\n",
    "    return(start,end)"
   ]
  },
  {
   "cell_type": "code",
   "execution_count": 4,
   "metadata": {},
   "outputs": [],
   "source": [
    "video_list = r\"E:\\Downloads\\ManducaMultiSenseData\\Videos\"\n",
    "window_path = r\"E:\\Downloads\\ManducaMultiSenseData\\Motion\\Centroids_Filtered\\window\\filteredFrameWindow.csv\"\n",
    "centroids = r\"E:\\Downloads\\ManducaMultiSenseData\\Motion\\Centroids_Filtered\""
   ]
  },
  {
   "cell_type": "code",
   "execution_count": 5,
   "metadata": {},
   "outputs": [],
   "source": [
    "names = ['L0.1_c-3_m46_11_39359']"
   ]
  },
  {
   "cell_type": "code",
   "execution_count": 16,
   "metadata": {},
   "outputs": [
    {
     "data": {
      "text/plain": [
       "(1, 1)"
      ]
     },
     "execution_count": 16,
     "metadata": {},
     "output_type": "execute_result"
    }
   ],
   "source": [
    "csv_list = glob.glob(centroids + '\\\\*.csv')\n",
    "csv_list = [elem for elem in csv_list if elem[61:-4] in names]\n",
    "len(csv_list), len(names)"
   ]
  },
  {
   "cell_type": "code",
   "execution_count": 17,
   "metadata": {},
   "outputs": [
    {
     "name": "stdout",
     "output_type": "stream",
     "text": [
      "L0.1_c-3_m46\n"
     ]
    }
   ],
   "source": [
    "for name in csv_list:\n",
    "    \n",
    "    df = pd.read_csv(name)\n",
    "    \n",
    "    name = name[61:-4]\n",
    "    \n",
    "    window = pd.read_csv(window_path)\n",
    "    \n",
    "    start,end = Frame(name,window)\n",
    "    \n",
    "        \n",
    "        \n",
    "    frameNum = np.arange(start,end)\n",
    "\n",
    "\n",
    "    \n",
    "\n",
    "    x,y = df.X_position.values, df.Y_position.values\n",
    "    \n",
    "    video_name = video_list +  \"//PotentialOutlier/\" + name  + '.mp4'\n",
    "\n",
    "    fourcc = cv2.VideoWriter_fourcc(*'mp4v') \n",
    "\n",
    "    video = cv2.VideoWriter(video_name, fourcc, 30, (648,488))\n",
    "\n",
    "    \n",
    "\n",
    "    \n",
    "\n",
    "  \n",
    "    if name.startswith('L0.1'):\n",
    "        name = name[:12]\n",
    "        if name.endswith('_'):\n",
    "            name = name[:-1]\n",
    "    elif name.startswith('L50'):\n",
    "        name = name[:11]\n",
    "        if name.endswith('_'):\n",
    "            name = name[:-1]\n",
    "    \n",
    "   \n",
    "    print(name)\n",
    "\n",
    "    \n",
    "\n",
    "    i = 0\n",
    "\n",
    "\n",
    "    while i < (len(x)-1):\n",
    "\n",
    "#         fig = plt.figure(figsize = (20,6))\n",
    "        back, cur, diff, f = VideoPull(0,frameNum[i], name, video_list)\n",
    "        c = [0,0,255]\n",
    "        if np.isnan(x[i]):\n",
    "            x[i], y[i] = 0,0\n",
    "            c = [0,255,0]\n",
    "        cv2.circle(f, (int(x[i]*74/2.5),int(y[i]*74/2.5)), 6, c, 3)\n",
    "\n",
    "        i+=1\n",
    "#         plt.imshow(cur, cmap = 'gray')\n",
    "        video.write(f)\n",
    "#         cv2.imshow('video',cur)\n",
    "#         if (cv2.waitKey(1) & 0xFF) == ord('q'): # Hit `q` to exit\n",
    "#             break\n",
    "\n",
    "    cv2.destroyAllWindows()\n",
    "    video.release()\n"
   ]
  },
  {
   "cell_type": "code",
   "execution_count": 18,
   "metadata": {},
   "outputs": [],
   "source": [
    "remove_list = r'E:\\Downloads\\ManducaMultiSenseData\\Videos\\PotentialOutlier\\\\'\n",
    "names = glob.glob(remove_list + \"*.mp4\")"
   ]
  },
  {
   "cell_type": "code",
   "execution_count": 19,
   "metadata": {},
   "outputs": [],
   "source": [
    "name_list = []\n",
    "for n in names:\n",
    "    name = \"E:\\Downloads\\ManducaMultiSenseData\\Centroids_Relevant\\\\\" + n[59:-4] + \".csv\"\n",
    "    name_list.append(name)"
   ]
  },
  {
   "cell_type": "code",
   "execution_count": 20,
   "metadata": {},
   "outputs": [
    {
     "data": {
      "text/plain": [
       "['E:\\\\Downloads\\\\ManducaMultiSenseData\\\\Centroids_Relevant\\\\L0.1_c-3_m23_6_66939.csv',\n",
       " 'E:\\\\Downloads\\\\ManducaMultiSenseData\\\\Centroids_Relevant\\\\L0.1_c-3_m34_19_67675.csv',\n",
       " 'E:\\\\Downloads\\\\ManducaMultiSenseData\\\\Centroids_Relevant\\\\L0.1_c-3_m37_0_36557.csv',\n",
       " 'E:\\\\Downloads\\\\ManducaMultiSenseData\\\\Centroids_Relevant\\\\L0.1_c-3_m38_0_24374.csv',\n",
       " 'E:\\\\Downloads\\\\ManducaMultiSenseData\\\\Centroids_Relevant\\\\L0.1_c-3_m39_10_40618.csv',\n",
       " 'E:\\\\Downloads\\\\ManducaMultiSenseData\\\\Centroids_Relevant\\\\L0.1_c-3_m39_11_41749.csv',\n",
       " 'E:\\\\Downloads\\\\ManducaMultiSenseData\\\\Centroids_Relevant\\\\L0.1_c-3_m39_12_43448.csv',\n",
       " 'E:\\\\Downloads\\\\ManducaMultiSenseData\\\\Centroids_Relevant\\\\L0.1_c-3_m39_13_44002.csv',\n",
       " 'E:\\\\Downloads\\\\ManducaMultiSenseData\\\\Centroids_Relevant\\\\L0.1_c-3_m39_2_31673.csv',\n",
       " 'E:\\\\Downloads\\\\ManducaMultiSenseData\\\\Centroids_Relevant\\\\L0.1_c-3_m39_3_32250.csv',\n",
       " 'E:\\\\Downloads\\\\ManducaMultiSenseData\\\\Centroids_Relevant\\\\L0.1_c-3_m39_4_35326.csv',\n",
       " 'E:\\\\Downloads\\\\ManducaMultiSenseData\\\\Centroids_Relevant\\\\L0.1_c-3_m39_5_35876.csv',\n",
       " 'E:\\\\Downloads\\\\ManducaMultiSenseData\\\\Centroids_Relevant\\\\L0.1_c-3_m39_6_37544.csv',\n",
       " 'E:\\\\Downloads\\\\ManducaMultiSenseData\\\\Centroids_Relevant\\\\L0.1_c-3_m39_7_37856.csv',\n",
       " 'E:\\\\Downloads\\\\ManducaMultiSenseData\\\\Centroids_Relevant\\\\L0.1_c-3_m39_8_39080.csv',\n",
       " 'E:\\\\Downloads\\\\ManducaMultiSenseData\\\\Centroids_Relevant\\\\L0.1_c-3_m39_9_40013.csv',\n",
       " 'E:\\\\Downloads\\\\ManducaMultiSenseData\\\\Centroids_Relevant\\\\L0.1_c-3_m46_11_39359.csv',\n",
       " 'E:\\\\Downloads\\\\ManducaMultiSenseData\\\\Centroids_Relevant\\\\L0.1_c-3_m8_0_22337.csv',\n",
       " 'E:\\\\Downloads\\\\ManducaMultiSenseData\\\\Centroids_Relevant\\\\L0.1_c-3_m8_15_90616.csv',\n",
       " 'E:\\\\Downloads\\\\ManducaMultiSenseData\\\\Centroids_Relevant\\\\L0.1_c-3_m8_16_98587.csv',\n",
       " 'E:\\\\Downloads\\\\ManducaMultiSenseData\\\\Centroids_Relevant\\\\L0.1_c-3_m8_17_100492.csv',\n",
       " 'E:\\\\Downloads\\\\ManducaMultiSenseData\\\\Centroids_Relevant\\\\L0.1_c-3_m8_18_102479.csv',\n",
       " 'E:\\\\Downloads\\\\ManducaMultiSenseData\\\\Centroids_Relevant\\\\L0.1_c-3_m8_19_106089.csv',\n",
       " 'E:\\\\Downloads\\\\ManducaMultiSenseData\\\\Centroids_Relevant\\\\L0.1_c-3_m8_1_23140.csv',\n",
       " 'E:\\\\Downloads\\\\ManducaMultiSenseData\\\\Centroids_Relevant\\\\L0.1_c-3_m8_20_106502.csv',\n",
       " 'E:\\\\Downloads\\\\ManducaMultiSenseData\\\\Centroids_Relevant\\\\L0.1_c-3_m8_21_107279.csv',\n",
       " 'E:\\\\Downloads\\\\ManducaMultiSenseData\\\\Centroids_Relevant\\\\L0.1_c-3_m8_7_43199.csv',\n",
       " 'E:\\\\Downloads\\\\ManducaMultiSenseData\\\\Centroids_Relevant\\\\L0.1_c-3_m8_9_62769.csv',\n",
       " 'E:\\\\Downloads\\\\ManducaMultiSenseData\\\\Centroids_Relevant\\\\L50_c-3_m35_6_48609.csv',\n",
       " 'E:\\\\Downloads\\\\ManducaMultiSenseData\\\\Centroids_Relevant\\\\L50_c-3_m35_8_108348.csv',\n",
       " 'E:\\\\Downloads\\\\ManducaMultiSenseData\\\\Centroids_Relevant\\\\L50_c-3_m37_10_91542.csv',\n",
       " 'E:\\\\Downloads\\\\ManducaMultiSenseData\\\\Centroids_Relevant\\\\L50_c-3_m38_2_26800.csv',\n",
       " 'E:\\\\Downloads\\\\ManducaMultiSenseData\\\\Centroids_Relevant\\\\L50_c-3_m38_3_36898.csv',\n",
       " 'E:\\\\Downloads\\\\ManducaMultiSenseData\\\\Centroids_Relevant\\\\L50_c-3_m38_4_37353.csv',\n",
       " 'E:\\\\Downloads\\\\ManducaMultiSenseData\\\\Centroids_Relevant\\\\L50_c-3_m38_5_37845.csv',\n",
       " 'E:\\\\Downloads\\\\ManducaMultiSenseData\\\\Centroids_Relevant\\\\L50_c-3_m38_6_38887.csv',\n",
       " 'E:\\\\Downloads\\\\ManducaMultiSenseData\\\\Centroids_Relevant\\\\L50_c-3_m45_10_66189.csv',\n",
       " 'E:\\\\Downloads\\\\ManducaMultiSenseData\\\\Centroids_Relevant\\\\L50_c-3_m45_11_67921.csv',\n",
       " 'E:\\\\Downloads\\\\ManducaMultiSenseData\\\\Centroids_Relevant\\\\L50_c-3_m45_12_68640.csv',\n",
       " 'E:\\\\Downloads\\\\ManducaMultiSenseData\\\\Centroids_Relevant\\\\L50_c-3_m45_13_159057.csv',\n",
       " 'E:\\\\Downloads\\\\ManducaMultiSenseData\\\\Centroids_Relevant\\\\L50_c-3_m45_6_55130.csv',\n",
       " 'E:\\\\Downloads\\\\ManducaMultiSenseData\\\\Centroids_Relevant\\\\L50_c-3_m45_7_63697.csv',\n",
       " 'E:\\\\Downloads\\\\ManducaMultiSenseData\\\\Centroids_Relevant\\\\L50_c-3_m45_8_64916.csv',\n",
       " 'E:\\\\Downloads\\\\ManducaMultiSenseData\\\\Centroids_Relevant\\\\L50_c-3_m45_9_65576.csv']"
      ]
     },
     "execution_count": 20,
     "metadata": {},
     "output_type": "execute_result"
    }
   ],
   "source": [
    "name_list"
   ]
  },
  {
   "cell_type": "code",
   "execution_count": null,
   "metadata": {},
   "outputs": [],
   "source": []
  }
 ],
 "metadata": {
  "kernelspec": {
   "display_name": "Python 3",
   "language": "python",
   "name": "python3"
  },
  "language_info": {
   "codemirror_mode": {
    "name": "ipython",
    "version": 3
   },
   "file_extension": ".py",
   "mimetype": "text/x-python",
   "name": "python",
   "nbconvert_exporter": "python",
   "pygments_lexer": "ipython3",
   "version": "3.7.6"
  }
 },
 "nbformat": 4,
 "nbformat_minor": 2
}
