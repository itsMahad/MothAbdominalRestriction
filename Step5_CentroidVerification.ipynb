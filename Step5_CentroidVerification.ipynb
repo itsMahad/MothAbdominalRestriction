{
 "cells": [
  {
   "cell_type": "code",
   "execution_count": 44,
   "metadata": {},
   "outputs": [],
   "source": [
    "import time\n",
    "import numpy as np\n",
    "import cv2\n",
    "import pandas as pd\n",
    "import matplotlib.pyplot as plt\n",
    "from scipy import signal\n",
    "import os, errno\n",
    "import glob"
   ]
  },
  {
   "cell_type": "code",
   "execution_count": 45,
   "metadata": {},
   "outputs": [],
   "source": [
    "source = r\"/Users/Mahad/Downloads/drive-download-20200317T004709Z-001/Centroids_Relevant\"\n",
    "window = r\"/Users/Mahad/Downloads/drive-download-20200317T004709Z-001/In_Out_Refined\"\n",
    "outpath = r\"/Users/Mahad/Downloads/drive-download-20200317T004709Z-001/Centroid_Filtered\""
   ]
  },
  {
   "cell_type": "code",
   "execution_count": 46,
   "metadata": {},
   "outputs": [],
   "source": [
    "csv_list = glob.glob(source + \"//*.csv\")"
   ]
  },
  {
   "cell_type": "code",
   "execution_count": 48,
   "metadata": {},
   "outputs": [],
   "source": [
    "i = 0\n",
    "for element in csv_list:\n",
    "    df = pd.read_csv(source + \"//\" + element[78:])\n",
    "    if np.any(df.X_position.isnull()):\n",
    "        print(element[78:-4], df.FrameNumber.values[-1])\n",
    "        print(np.asarray(np.where(df.X_position.isnull())).ravel())\n",
    "        i+=1"
   ]
  },
  {
   "cell_type": "code",
   "execution_count": 38,
   "metadata": {},
   "outputs": [],
   "source": [
    "new_list = []\n",
    "for element in csv_list:\n",
    "    if  not element[78:].startswith('Sham_10_0'):\n",
    "        if not element[78:].startswith('Sham_14_1'):\n",
    "            if not element[78:].startswith('Sham_17_0'):\n",
    "                if  not element[78:].startswith('Sham_18'):\n",
    "                                \n",
    "                    new_list.append(element)\n",
    "   "
   ]
  },
  {
   "cell_type": "code",
   "execution_count": 39,
   "metadata": {},
   "outputs": [],
   "source": [
    "for element in new_list:\n",
    "    if element[78:].startswith('Experimental_1_0'):\n",
    "        start, end = 53188 , 53300\n",
    "        df = pd.read_csv(source + \"//\" + element[78:])\n",
    "        df = df[(df['FrameNumber'] >= start) & (df['FrameNumber'] < end)]\n",
    "        df = df.reset_index()\n",
    "        df = df.drop(columns=['Unnamed: 0', 'index'])\n",
    "    \n",
    "        df.to_csv(source + \"//\" + element[78:])\n",
    "    elif element[78:].startswith('Experimental_4_1'):\n",
    "        start, end = 72345 , 72750\n",
    "        \n",
    "        df = pd.read_csv(source + \"//\" + element[78:])\n",
    "        df = df[(df['FrameNumber'] >= start) & (df['FrameNumber'] < end)]\n",
    "        df = df.reset_index()\n",
    "        df = df.drop(columns=['Unnamed: 0', 'index'])\n",
    "        df.to_csv(source + \"//\" + element[78:])\n",
    "    elif element[78:].startswith('Experimental_7_0'):\n",
    "        start, end = 36544 , 36790\n",
    "        df = pd.read_csv(source + \"//\" + element[78:])\n",
    "        df = df[(df['FrameNumber'] >= start) & (df['FrameNumber'] < end)]\n",
    "        df = df.reset_index()\n",
    "        df = df.drop(columns=['Unnamed: 0', 'index'])\n",
    "        df.to_csv(source + \"//\" + element[78:])\n",
    "    elif element[78:].startswith('Experimental_7_1'):\n",
    "        start, end = 36856 , 37200\n",
    "        df = pd.read_csv(source + \"//\" + element[78:])\n",
    "        df = df[(df['FrameNumber'] >= start) & (df['FrameNumber'] < end)]\n",
    "        df = df.reset_index()\n",
    "        df = df.drop(columns=['Unnamed: 0', 'index'])\n",
    "        df.to_csv(source + \"//\" + element[78:])\n",
    "    elif element[78:].startswith('Experimental_7_2'):\n",
    "        start, end = 40450 , 40710\n",
    "        df = pd.read_csv(source + \"//\" + element[78:])\n",
    "        df = df[(df['FrameNumber'] >= start) & (df['FrameNumber'] < end)]\n",
    "        df = df.reset_index()\n",
    "        df = df.drop(columns=['Unnamed: 0', 'index'])\n",
    "        df.to_csv(source + \"//\" + element[78:])\n",
    "    elif element[78:].startswith('Experimental_7_3'):\n",
    "        start, end = 41560 , 41900\n",
    "        df = pd.read_csv(source + \"//\" + element[78:])\n",
    "        df = df[(df['FrameNumber'] >= start) & (df['FrameNumber'] < end)]\n",
    "        df = df.reset_index()\n",
    "        df = df.drop(columns=['Unnamed: 0', 'index'])\n",
    "        df.to_csv(source + \"//\" + element[78:])\n",
    "    elif element[78:].startswith('Experimental_7_4'):\n",
    "        start, end = 54620 , 54950\n",
    "        df = pd.read_csv(source + \"//\" + element[78:])\n",
    "        df = df[(df['FrameNumber'] >= start) & (df['FrameNumber'] < end)]\n",
    "        df = df.reset_index()\n",
    "        df = df.drop(columns=['Unnamed: 0', 'index'])\n",
    "        df.to_csv(source + \"//\" + element[78:])\n",
    "    elif element[78:].startswith('Sham_16_8'):\n",
    "        start, end = 30900, 31010\n",
    "        df = pd.read_csv(source + \"//\" + element[78:])\n",
    "        df = df[(df['FrameNumber'] >= start) & (df['FrameNumber'] < end)]\n",
    "        df = df.reset_index()\n",
    "        df = df.drop(columns=['Unnamed: 0', 'index'])\n",
    "        df.to_csv(source + \"//\" + element[78:])\n",
    "    elif element[78:].startswith('Sham_16_9'):\n",
    "        start, end = 31500, 31705\n",
    "        df = pd.read_csv(source + \"//\" + element[78:])\n",
    "        df = df[(df['FrameNumber'] >= start) & (df['FrameNumber'] < end)]\n",
    "        df = df.reset_index()\n",
    "        df = df.drop(columns=['Unnamed: 0', 'index'])\n",
    "        df.to_csv(source + \"//\" + element[78:])\n",
    "    elif element[78:].startswith('Sham_7_0'):\n",
    "        start, end = 63837, 64050\n",
    "        df = pd.read_csv(source + \"//\" + element[78:])\n",
    "        df = df[(df['FrameNumber'] >= start) & (df['FrameNumber'] < end)]\n",
    "        df = df.reset_index()\n",
    "        df = df.drop(columns=['Unnamed: 0', 'index'])\n",
    "        df.to_csv(source + \"//\" + element[78:])\n",
    "    elif element[78:].startswith('Sham_7_1'):\n",
    "        start, end = 65050, 65455\n",
    "        df = pd.read_csv(source + \"//\" + element[78:])\n",
    "        df = df[(df['FrameNumber'] >= start) & (df['FrameNumber'] < end)]\n",
    "        df = df.reset_index()\n",
    "        df = df.drop(columns=['Unnamed: 0', 'index'])\n",
    "        df.to_csv(source + \"//\" + element[78:])\n",
    "    df = pd.read_csv(source + \"//\" + element[78:])\n",
    "    df.to_csv(source + \"//\" + element[78:])"
   ]
  },
  {
   "cell_type": "code",
   "execution_count": null,
   "metadata": {},
   "outputs": [],
   "source": []
  }
 ],
 "metadata": {
  "kernelspec": {
   "display_name": "Python 3",
   "language": "python",
   "name": "python3"
  },
  "language_info": {
   "codemirror_mode": {
    "name": "ipython",
    "version": 3
   },
   "file_extension": ".py",
   "mimetype": "text/x-python",
   "name": "python",
   "nbconvert_exporter": "python",
   "pygments_lexer": "ipython3",
   "version": "3.6.4"
  }
 },
 "nbformat": 4,
 "nbformat_minor": 2
}
