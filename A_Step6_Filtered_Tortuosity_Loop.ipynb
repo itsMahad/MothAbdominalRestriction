{
 "cells": [
  {
   "cell_type": "code",
   "execution_count": 41,
   "metadata": {},
   "outputs": [],
   "source": [
    "from matplotlib import pyplot as plt\n",
    "%matplotlib inline\n",
    "from matplotlib import style\n",
    "style.use('seaborn-talk')\n",
    "from matplotlib import cm\n",
    "import numpy as np\n",
    "import os\n",
    "import scipy.io\n",
    "import seaborn as sb\n",
    "from scipy.fftpack import fft\n",
    "import csv\n",
    "import pandas as pd\n",
    "from scipy.signal import butter, filtfilt\n",
    "import glob\n",
    "import seaborn as sns\n",
    "import scikit_posthocs as sp\n",
    "from scipy import signal"
   ]
  },
  {
   "cell_type": "code",
   "execution_count": 42,
   "metadata": {},
   "outputs": [],
   "source": [
    "# Pathways\n",
    "outpath = r'C:\\Users\\Daniellab\\Desktop\\Jorge_Analysis\\Tortuosity\\NewMethod'\n",
    "figpath = r'C:\\Users\\Daniellab\\Desktop\\Jorge_Analysis\\Tortuosity\\NewMethod\\Figures'\n",
    "source = r'C:\\Users\\Daniellab\\Desktop\\Jorge_Analysis\\Centroids_Final\\Raw_NG'"
   ]
  },
  {
   "cell_type": "code",
   "execution_count": 43,
   "metadata": {},
   "outputs": [],
   "source": [
    "def removeNaN(df): \n",
    "    if np.any(df.X_position.isnull()):\n",
    "        a = np.asarray(np.where(df.X_position.isnull())).ravel()\n",
    "        b = a[1:]\n",
    "        c = a[:-1]\n",
    "        d = b-c\n",
    "        last_chunk = len(df.X_position) - a[-1]\n",
    "\n",
    "\n",
    "        if last_chunk > 100:\n",
    "\n",
    "            start = a[-1]+1\n",
    "            end = a[-1] + last_chunk-1\n",
    "\n",
    "        elif a[0] > 100:\n",
    "            start = 0\n",
    "            end = a[0]-1\n",
    "\n",
    "\n",
    "        elif d.max() > 100:\n",
    "            e = d.argmax()\n",
    "            start = a[e]+1\n",
    "            end = a[e+1]-1\n",
    "\n",
    "        else:\n",
    "            print('error')\n",
    "    \n",
    "        x_no_nan = df.X_position.values[start:end]\n",
    "        y_no_nan = df.Y_position.values[start:end]\n",
    "        return(x_no_nan, y_no_nan)\n",
    "    else:\n",
    "        x = df.X_position.values\n",
    "        y = df.Y_position.values\n",
    "        return(x,y)"
   ]
  },
  {
   "cell_type": "code",
   "execution_count": 44,
   "metadata": {},
   "outputs": [],
   "source": [
    "def butter_lowpass(cutoff, fs, order=5):\n",
    "    nyq = 0.5 * fs\n",
    "    normal_cutoff = cutoff / nyq\n",
    "    b, a = butter(order, normal_cutoff, btype='low', analog=False)\n",
    "    return b, a\n",
    "def butter_lowpass_filter(data, cutoff, fs, order=5):\n",
    "    b, a = butter_lowpass(cutoff, fs, order=order)\n",
    "    y = filtfilt(b, a, data, padlen = 2 * max(len(a), len(b)))\n",
    "    return y"
   ]
  },
  {
   "cell_type": "code",
   "execution_count": 45,
   "metadata": {},
   "outputs": [],
   "source": [
    "def gaussian(x,y):\n",
    "    gauss = signal.gaussian(7,3)\n",
    "    x_gauss = signal.convolve(x, gauss, mode='same', method = 'direct') / gauss.sum()\n",
    "    y_gauss = signal.convolve(y, gauss, mode = 'same', method = 'direct') / gauss.sum()\n",
    "    return(x_gauss, y_gauss)"
   ]
  },
  {
   "cell_type": "code",
   "execution_count": 46,
   "metadata": {},
   "outputs": [],
   "source": [
    "def tortuosity_difference(x,y,x_smooth,y_smooth):\n",
    "    x = x[3:-2]\n",
    "    y = y[3:-2]\n",
    "    x_smooth = x_smooth[3:-2]\n",
    "    y_smooth = y_smooth[3:-2]\n",
    "    i = 0\n",
    "    d_list = []\n",
    "    for element in x:\n",
    "        dist = np.sqrt((x[i]-x_gauss[i])**2 + (y[i]-y_gauss[i])**2)\n",
    "        i+=1\n",
    "        d_list.append(dist)    \n",
    "    mean_d = np.mean(d_list)\n",
    "    std_d = np.std(d_list)\n",
    "    return(mean_d, std_d)"
   ]
  },
  {
   "cell_type": "code",
   "execution_count": 47,
   "metadata": {},
   "outputs": [],
   "source": [
    "def tortuosity_ratio(x,y,x_smooth, y_smooth):\n",
    "    i =1\n",
    "    L_list = []\n",
    "    for element in x: \n",
    "        if i < len(x):\n",
    "            L_ = np.sqrt((x[i]-x[i-1])**2 + (y[i]-y[i-1])**2)\n",
    "            i+=1\n",
    "            L_list.append(L_)\n",
    "    L = np.sum(L_list)\n",
    "    i = 1\n",
    "    L_prime_list = []\n",
    "    for element in x_smooth:\n",
    "        if i < len(x_smooth):\n",
    "            L_prime_ = np.sqrt((x_smooth[i]-x_smooth[i-1])**2 + (y_smooth[i]-y_smooth[i-1])**2)\n",
    "            i+=1\n",
    "            L_prime_list.append(L_prime_)\n",
    "    L_prime = np.sum(L_prime_list)\n",
    "    t_r = L/L_prime\n",
    "    return(t_r)"
   ]
  },
  {
   "cell_type": "code",
   "execution_count": 48,
   "metadata": {},
   "outputs": [
    {
     "name": "stdout",
     "output_type": "stream",
     "text": [
      "54\n"
     ]
    }
   ],
   "source": [
    "csv_list = glob.glob(source + '\\*Centroid*.csv')\n",
    "print(len(csv_list))"
   ]
  },
  {
   "cell_type": "code",
   "execution_count": 49,
   "metadata": {},
   "outputs": [
    {
     "name": "stderr",
     "output_type": "stream",
     "text": [
      "C:\\Users\\Daniellab\\Anaconda3\\lib\\site-packages\\scipy\\signal\\_arraytools.py:45: FutureWarning: Using a non-tuple sequence for multidimensional indexing is deprecated; use `arr[tuple(seq)]` instead of `arr[seq]`. In the future this will be interpreted as an array index, `arr[np.array(seq)]`, which will result either in an error or a different result.\n",
      "  b = a[a_slice]\n"
     ]
    },
    {
     "name": "stdout",
     "output_type": "stream",
     "text": [
      "Experimental_1_52523\n",
      "459\n",
      "Experimental_4_66232\n",
      "352\n",
      "Experimental_4_72340\n",
      "401\n",
      "Experimental_7_36526\n",
      "405\n",
      "Experimental_7_40443\n",
      "257\n",
      "Experimental_7_41552\n",
      "340\n",
      "Experimental_7_54607\n",
      "335\n",
      "Sham_10_45293\n",
      "272\n",
      "Sham_11_98276\n",
      "361\n",
      "Sham_14_23923\n",
      "278\n",
      "Sham_15_48082\n",
      "247\n",
      "Sham_16_31431\n",
      "251\n",
      "Sham_18_60894\n",
      "248\n",
      "Sham_1_32201\n",
      "420\n",
      "Sham_1_33803\n",
      "1523\n",
      "Sham_1_35598\n",
      "299\n",
      "Sham_1_37142\n",
      "560\n",
      "Sham_1_38514\n",
      "353\n",
      "Sham_2_46690\n",
      "287\n",
      "Sham_2_58256\n",
      "256\n",
      "Sham_3_77208\n",
      "286\n",
      "Sham_4_66374\n",
      "221\n",
      "Sham_4_67307\n",
      "328\n",
      "Sham_6_153286\n",
      "548\n",
      "Sham_6_83460\n",
      "267\n",
      "Sham_7_63837\n",
      "226\n",
      "Sham_7_64994\n",
      "440\n"
     ]
    }
   ],
   "source": [
    "t_list = []\n",
    "mean_list = []\n",
    "std_list = []\n",
    "visit_list = []\n",
    "e = 1\n",
    "for element in csv_list:\n",
    "    df = pd.read_csv(element)\n",
    "   \n",
    "    visit = df.visit_number[0]\n",
    "    x, y = removeNaN(df)\n",
    "    \n",
    "    x_gauss, y_gauss = gaussian(x,y)\n",
    "    \n",
    "    \n",
    "    t = df.loc[0:len(x),'FrameNumber']/100\n",
    "    Time = t[len(t)-1]-t[0]\n",
    "    \n",
    "    \n",
    "    x_filtered = butter_lowpass_filter(x, 20, len(x)/Time, order = 5)\n",
    "    y_filtered = butter_lowpass_filter(y, 20, len(y)/Time, order = 5)\n",
    "\n",
    "    if len(x) > 200:\n",
    "        print(element[81:-4])\n",
    "        print(len(x))\n",
    "        e+=1\n",
    "    mean, std = tortuosity_difference(x,y,x_filtered, y_filtered)\n",
    "    \n",
    "    t = tortuosity_ratio(x,y,x_filtered,y_filtered)\n",
    "    \n",
    "    t_list.append(t)\n",
    "    mean_list.append(mean)\n",
    "    std_list.append(std)\n",
    "    visit_list.append(visit)\n",
    "    \n",
    "    \n",
    "    \n",
    "#     fig, ax = plt.subplots(1,2, figsize = (20,6))\n",
    "    \n",
    "    \n",
    "#     print(mean, std)\n",
    "#     ax[0].set_title(\"Gaussian\")\n",
    "#     ax[0].plot(x[3:-2], c = \"r\")\n",
    "#     ax[0].plot(x_gauss[3:-2], c = \"k\")\n",
    "#     ax[1].set_title(\"Low Pass\")\n",
    "#     ax[1].plot(x[3:-2], 'r')\n",
    "#     ax[1].plot(x_filtered[3:-2], 'k')\n",
    "#     plt.savefig(figpath + \"\\\\\" + element[81:-4] + \".png\")\n",
    "    plt.show()"
   ]
  },
  {
   "cell_type": "code",
   "execution_count": 50,
   "metadata": {},
   "outputs": [
    {
     "data": {
      "text/plain": [
       "28"
      ]
     },
     "execution_count": 50,
     "metadata": {},
     "output_type": "execute_result"
    }
   ],
   "source": [
    "e"
   ]
  },
  {
   "cell_type": "code",
   "execution_count": 10,
   "metadata": {},
   "outputs": [],
   "source": [
    "#feed this into the mixed effects model in R\n",
    "name_list = []\n",
    "for element in csv_list:\n",
    "    name_list.append(element[81:-4])"
   ]
  },
  {
   "cell_type": "code",
   "execution_count": 11,
   "metadata": {},
   "outputs": [],
   "source": [
    "name_list_ = []\n",
    "for name in name_list:\n",
    "    if name.startswith('Sham'):\n",
    "        name = name[:7]\n",
    "        if name.endswith('_'):\n",
    "            name = name[:-1]\n",
    "    elif name.startswith('Experimental'):\n",
    "        name = name[:15]\n",
    "        if name.endswith('_'):\n",
    "            name = name[:-1]\n",
    "    \n",
    "    name_list_.append(name)\n",
    "#     print(name)\n",
    "name_list = name_list_"
   ]
  },
  {
   "cell_type": "code",
   "execution_count": 12,
   "metadata": {},
   "outputs": [
    {
     "data": {
      "text/plain": [
       "(56, 56, 56, 56)"
      ]
     },
     "execution_count": 12,
     "metadata": {},
     "output_type": "execute_result"
    }
   ],
   "source": [
    "len(mean_list),len(std_list), len(name_list), len(visit_list)"
   ]
  },
  {
   "cell_type": "code",
   "execution_count": 13,
   "metadata": {},
   "outputs": [],
   "source": [
    "condition = [\"Experimental\"]*13\n",
    "condition.extend([\"Sham\"]*43)\n",
    "new_df = (pd.DataFrame({'name' : name_list, \n",
    "                        'std': std_list, 'mean' : mean_list, 'tortuosity_ratio': t_list,\n",
    "                        'condition': condition, 'visit_number': visit_list}))\n",
    "new_df = new_df.sort_values(by=['name','visit_number'])\n",
    "new_df.reset_index(drop=True, inplace=True)"
   ]
  },
  {
   "cell_type": "code",
   "execution_count": 14,
   "metadata": {},
   "outputs": [],
   "source": [
    "new_df.to_csv(outpath + \"\\\\\" + \"tortuosity.csv\")"
   ]
  }
 ],
 "metadata": {
  "kernelspec": {
   "display_name": "Python 3",
   "language": "python",
   "name": "python3"
  },
  "language_info": {
   "codemirror_mode": {
    "name": "ipython",
    "version": 3
   },
   "file_extension": ".py",
   "mimetype": "text/x-python",
   "name": "python",
   "nbconvert_exporter": "python",
   "pygments_lexer": "ipython3",
   "version": "3.7.1"
  }
 },
 "nbformat": 4,
 "nbformat_minor": 2
}
