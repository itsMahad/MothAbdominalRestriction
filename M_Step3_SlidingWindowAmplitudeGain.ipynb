{
 "cells": [
  {
   "cell_type": "code",
   "execution_count": 2,
   "metadata": {},
   "outputs": [],
   "source": [
    "from matplotlib import pyplot as plt\n",
    "%matplotlib inline\n",
    "from matplotlib import style\n",
    "style.use('seaborn-talk')\n",
    "from matplotlib import cm\n",
    "import numpy as np\n",
    "import os\n",
    "import scipy.io\n",
    "import seaborn as sb\n",
    "from scipy.fftpack import fft\n",
    "import csv\n",
    "import pandas as pd\n",
    "from scipy.signal import butter, filtfilt\n",
    "import glob\n",
    "import seaborn as sns\n",
    "import scikit_posthocs as sp\n",
    "from scipy import signal"
   ]
  },
  {
   "cell_type": "code",
   "execution_count": 3,
   "metadata": {},
   "outputs": [],
   "source": [
    "# Pathways\n",
    "outpath = r'C:\\Users\\Daniellab\\Desktop\\Jorge_Analysis\\Tortuosity\\chunking'\n",
    "figpath = r'C:\\Users\\Daniellab\\Desktop\\Jorge_Analysis\\Tortuosity\\chunking\\figures'\n",
    "source = r'C:\\Users\\Daniellab\\Desktop\\Jorge_Analysis\\Centroids_Final\\Raw_NG'"
   ]
  },
  {
   "cell_type": "code",
   "execution_count": 4,
   "metadata": {},
   "outputs": [],
   "source": [
    "#sample data such that there are no NaNs within each path and that each path is greater than 100 frames (fft cannot tolerate NaNs, is removing better than smoothening?)\n",
    "def removeNaN(df): \n",
    "    if np.any(df.X_position.isnull()):\n",
    "        a = np.asarray(np.where(df.X_position.isnull())).ravel()\n",
    "        b = a[1:]\n",
    "        c = a[:-1]\n",
    "        d = b-c\n",
    "        last_chunk = len(df.X_position) - a[-1]\n",
    "\n",
    "\n",
    "        if last_chunk > 100:\n",
    "\n",
    "            start = a[-1]+1\n",
    "            end = a[-1] + last_chunk-1\n",
    "\n",
    "        elif a[0] > 100:\n",
    "            start = 0\n",
    "            end = a[0]-1\n",
    "\n",
    "\n",
    "        elif d.max() > 100:\n",
    "            e = d.argmax()\n",
    "            start = a[e]+1\n",
    "            end = a[e+1]-1\n",
    "\n",
    "        else:\n",
    "            print('error')\n",
    "    \n",
    "        x_no_nan = df.X_position.values[start:end]\n",
    "        y_no_nan = df.Y_position.values[start:end]\n",
    "        return(x_no_nan, y_no_nan)\n",
    "    else:\n",
    "        x = df.X_position.values\n",
    "        y = df.Y_position.values\n",
    "        return(x,y)"
   ]
  },
  {
   "cell_type": "code",
   "execution_count": 5,
   "metadata": {},
   "outputs": [],
   "source": [
    "# def rotation_matrix(x_0,y_0,x_1,y_1):\n",
    "    \n",
    "#     A = np.asarray([(x_1-x_0), (y_1-y_0)]) # < --- is this counting the point as [(0,0), ((x_1-x_0), (y_1-y_0))] or [(x_1-x0), (y_1-y0)]?\n",
    "#     B = np.asarray([1,0])\n",
    "    \n",
    "#     theta = np.arccos(np.dot(A,B)/(np.linalg.norm(A)*np.linalg.norm(B)))\n",
    "    \n",
    "#     if (y_1-y_0) < 0:\n",
    "#         theta += np.pi\n",
    "#         c, s = np.cos(theta), np.sin(theta)\n",
    "#         R = np.array(( ( c,-s ) ,\n",
    "#                    ( s,c )  ))\n",
    "    \n",
    "#     else:\n",
    "#         c, s = -1*np.cos(theta), np.sin(theta)\n",
    "#         R = np.array(( ( c,-s ) ,\n",
    "#                    ( s,c )  ))\n",
    "    \n",
    "#     # do I have to shift the points too? so first point becomes origin, and then last point is shifted by the x & y of the first point. This is only used to find magnitude. Rotation matrix angle should hold for other points? each point as a vector with the origin and I rotate all those vectors equally\n",
    "    \n",
    "#     return(R, theta)"
   ]
  },
  {
   "cell_type": "code",
   "execution_count": 6,
   "metadata": {},
   "outputs": [],
   "source": [
    "#Create a sliding window (10 wingbeats@25Hz/wingbeat&100frames/s ---> 40 frame window)\n",
    "#report every distance vs displacement ratio for each chunk\n",
    "def tortuosity_ratio(x,y,chunk):\n",
    "    \n",
    "    n = np.arange(0,len(x)-chunk,1)\n",
    "    ratio_list = []\n",
    "    \n",
    "    \n",
    "    for element in n[:140]:\n",
    "        \n",
    "        rotated_points = []\n",
    "        raw_points = []\n",
    "        shortest_path = np.sqrt((x[element+chunk]-x[element])**2 + (y[element+chunk]-y[element])**2)\n",
    "        \n",
    "        \n",
    "        \n",
    "        #generate rotation matrix\n",
    "        \n",
    "        R = rotation_matrix(x[element], y[element], x[element+chunk], y[element+chunk])\n",
    "        \n",
    "        \n",
    "        actual_list = 0\n",
    "        i = 0\n",
    "        while i < len(x[element:element+chunk]):\n",
    "\n",
    "\n",
    "\n",
    "            actual_path = np.sqrt((x[element:element+chunk+1][i+1]-x[element:element+chunk+1][i])**2 + (y[element:element+chunk+1][i+1]-y[element:element+chunk+1][i])**2)\n",
    "            actual_list += actual_path\n",
    "\n",
    "            \n",
    "            #apply rotation matrix to every point\n",
    "\n",
    "\n",
    "            C = ((x[element:element+chunk+1][i]-x[element:element+chunk+1][0]), (y[element:element+chunk+1][i]-y[element:element+chunk+1][0]))\n",
    "            C_rot = R.dot(C)\n",
    "            raw_points.append(C)\n",
    "            rotated_points.append(C_rot)\n",
    "            \n",
    "\n",
    "            i +=1\n",
    "        \n",
    "        #should account for last point, there has to be more efficient way to do this \n",
    "        \n",
    "        \n",
    "        C = ((x[element:element+chunk+1][i]-x[element:element+chunk+1][0]), (y[element:element+chunk+1][i]-y[element:element+chunk+1][0]))\n",
    "        C_rot = R.dot(C)\n",
    "        raw_points.append(C)\n",
    "        rotated_points.append(C_rot)\n",
    "        \n",
    "        ratio = actual_list/shortest_path\n",
    "        ratio_list.append(ratio)\n",
    "        \n",
    "        mean = np.mean(ratio_list)\n",
    "        std = np.std(ratio_list)\n",
    "    return(mean, std, ratio_list, rotated_points, raw_points)"
   ]
  },
  {
   "cell_type": "code",
   "execution_count": 7,
   "metadata": {},
   "outputs": [],
   "source": [
    "df = pd.read_csv(source + '\\Centroids_Final_Sham_2_58256.csv')"
   ]
  },
  {
   "cell_type": "code",
   "execution_count": 8,
   "metadata": {},
   "outputs": [
    {
     "ename": "NameError",
     "evalue": "name 'rotation_matrix' is not defined",
     "output_type": "error",
     "traceback": [
      "\u001b[1;31m---------------------------------------------------------------------------\u001b[0m",
      "\u001b[1;31mNameError\u001b[0m                                 Traceback (most recent call last)",
      "\u001b[1;32m<ipython-input-8-9c2625f14b65>\u001b[0m in \u001b[0;36m<module>\u001b[1;34m\u001b[0m\n\u001b[0;32m      1\u001b[0m \u001b[0mx\u001b[0m\u001b[1;33m,\u001b[0m\u001b[0my\u001b[0m \u001b[1;33m=\u001b[0m \u001b[0mremoveNaN\u001b[0m\u001b[1;33m(\u001b[0m\u001b[0mdf\u001b[0m\u001b[1;33m)\u001b[0m\u001b[1;33m\u001b[0m\u001b[1;33m\u001b[0m\u001b[0m\n\u001b[1;32m----> 2\u001b[1;33m \u001b[0mmean\u001b[0m\u001b[1;33m,\u001b[0m \u001b[0mstd\u001b[0m\u001b[1;33m,\u001b[0m \u001b[0mratio_list\u001b[0m\u001b[1;33m,\u001b[0m \u001b[0mrotated_points\u001b[0m\u001b[1;33m,\u001b[0m \u001b[0mraw_points\u001b[0m \u001b[1;33m=\u001b[0m \u001b[0mtortuosity_ratio\u001b[0m\u001b[1;33m(\u001b[0m\u001b[0mx\u001b[0m\u001b[1;33m,\u001b[0m\u001b[0my\u001b[0m\u001b[1;33m,\u001b[0m \u001b[1;36m40\u001b[0m\u001b[1;33m)\u001b[0m\u001b[1;33m\u001b[0m\u001b[1;33m\u001b[0m\u001b[0m\n\u001b[0m",
      "\u001b[1;32m<ipython-input-6-d597b3ee006b>\u001b[0m in \u001b[0;36mtortuosity_ratio\u001b[1;34m(x, y, chunk)\u001b[0m\n\u001b[0;32m     17\u001b[0m         \u001b[1;31m#generate rotation matrix\u001b[0m\u001b[1;33m\u001b[0m\u001b[1;33m\u001b[0m\u001b[1;33m\u001b[0m\u001b[0m\n\u001b[0;32m     18\u001b[0m \u001b[1;33m\u001b[0m\u001b[0m\n\u001b[1;32m---> 19\u001b[1;33m         \u001b[0mR\u001b[0m \u001b[1;33m=\u001b[0m \u001b[0mrotation_matrix\u001b[0m\u001b[1;33m(\u001b[0m\u001b[0mx\u001b[0m\u001b[1;33m[\u001b[0m\u001b[0melement\u001b[0m\u001b[1;33m]\u001b[0m\u001b[1;33m,\u001b[0m \u001b[0my\u001b[0m\u001b[1;33m[\u001b[0m\u001b[0melement\u001b[0m\u001b[1;33m]\u001b[0m\u001b[1;33m,\u001b[0m \u001b[0mx\u001b[0m\u001b[1;33m[\u001b[0m\u001b[0melement\u001b[0m\u001b[1;33m+\u001b[0m\u001b[0mchunk\u001b[0m\u001b[1;33m]\u001b[0m\u001b[1;33m,\u001b[0m \u001b[0my\u001b[0m\u001b[1;33m[\u001b[0m\u001b[0melement\u001b[0m\u001b[1;33m+\u001b[0m\u001b[0mchunk\u001b[0m\u001b[1;33m]\u001b[0m\u001b[1;33m)\u001b[0m\u001b[1;33m\u001b[0m\u001b[1;33m\u001b[0m\u001b[0m\n\u001b[0m\u001b[0;32m     20\u001b[0m \u001b[1;33m\u001b[0m\u001b[0m\n\u001b[0;32m     21\u001b[0m \u001b[1;33m\u001b[0m\u001b[0m\n",
      "\u001b[1;31mNameError\u001b[0m: name 'rotation_matrix' is not defined"
     ]
    }
   ],
   "source": [
    "x,y = removeNaN(df)\n",
    "mean, std, ratio_list, rotated_points, raw_points = tortuosity_ratio(x,y, 40)"
   ]
  },
  {
   "cell_type": "code",
   "execution_count": 9,
   "metadata": {},
   "outputs": [
    {
     "ename": "NameError",
     "evalue": "name 'rotated_points' is not defined",
     "output_type": "error",
     "traceback": [
      "\u001b[1;31m---------------------------------------------------------------------------\u001b[0m",
      "\u001b[1;31mNameError\u001b[0m                                 Traceback (most recent call last)",
      "\u001b[1;32m<ipython-input-9-b63bebc44c15>\u001b[0m in \u001b[0;36m<module>\u001b[1;34m\u001b[0m\n\u001b[0;32m      1\u001b[0m \u001b[0mx_rotated\u001b[0m \u001b[1;33m=\u001b[0m \u001b[1;33m[\u001b[0m\u001b[1;33m]\u001b[0m\u001b[1;33m\u001b[0m\u001b[1;33m\u001b[0m\u001b[0m\n\u001b[0;32m      2\u001b[0m \u001b[0my_rotated\u001b[0m \u001b[1;33m=\u001b[0m \u001b[1;33m[\u001b[0m\u001b[1;33m]\u001b[0m\u001b[1;33m\u001b[0m\u001b[1;33m\u001b[0m\u001b[0m\n\u001b[1;32m----> 3\u001b[1;33m \u001b[1;32mfor\u001b[0m \u001b[0me\u001b[0m \u001b[1;32min\u001b[0m \u001b[0mrotated_points\u001b[0m\u001b[1;33m:\u001b[0m\u001b[1;33m\u001b[0m\u001b[1;33m\u001b[0m\u001b[0m\n\u001b[0m\u001b[0;32m      4\u001b[0m     \u001b[0mx_rotated\u001b[0m\u001b[1;33m.\u001b[0m\u001b[0mappend\u001b[0m\u001b[1;33m(\u001b[0m\u001b[0me\u001b[0m\u001b[1;33m[\u001b[0m\u001b[1;36m0\u001b[0m\u001b[1;33m]\u001b[0m\u001b[1;33m)\u001b[0m\u001b[1;33m\u001b[0m\u001b[1;33m\u001b[0m\u001b[0m\n\u001b[0;32m      5\u001b[0m     \u001b[0my_rotated\u001b[0m\u001b[1;33m.\u001b[0m\u001b[0mappend\u001b[0m\u001b[1;33m(\u001b[0m\u001b[0me\u001b[0m\u001b[1;33m[\u001b[0m\u001b[1;36m1\u001b[0m\u001b[1;33m]\u001b[0m\u001b[1;33m)\u001b[0m\u001b[1;33m\u001b[0m\u001b[1;33m\u001b[0m\u001b[0m\n",
      "\u001b[1;31mNameError\u001b[0m: name 'rotated_points' is not defined"
     ]
    }
   ],
   "source": [
    "x_rotated = []\n",
    "y_rotated = []\n",
    "for e in rotated_points:\n",
    "    x_rotated.append(e[0])\n",
    "    y_rotated.append(e[1])\n",
    "x_raw = []\n",
    "y_raw = []\n",
    "for e in raw_points:\n",
    "    x_raw.append(e[0])\n",
    "    y_raw.append(e[1])"
   ]
  },
  {
   "cell_type": "code",
   "execution_count": 596,
   "metadata": {},
   "outputs": [
    {
     "data": {
      "text/plain": [
       "[<matplotlib.lines.Line2D at 0xedae3c8>]"
      ]
     },
     "execution_count": 596,
     "metadata": {},
     "output_type": "execute_result"
    },
    {
     "data": {
      "image/png": "[encoded data removed]",
      "text/plain": [
       "<Figure size 432x288 with 1 Axes>"
      ]
     },
     "metadata": {
      "needs_background": "light"
     },
     "output_type": "display_data"
    }
   ],
   "source": [
    "plt.plot(x,y, \"-o\")"
   ]
  },
  {
   "cell_type": "code",
   "execution_count": 5,
   "metadata": {},
   "outputs": [],
   "source": [
    "#rotate the data such that the variance from the shortest path is in one dimension"
   ]
  },
  {
   "cell_type": "code",
   "execution_count": 6,
   "metadata": {},
   "outputs": [],
   "source": [
    "#calculate an fft spectrum "
   ]
  },
  {
   "cell_type": "code",
   "execution_count": 7,
   "metadata": {},
   "outputs": [],
   "source": [
    "#average the spectrum across each chunk within a path (considering both the mean and the variance)"
   ]
  },
  {
   "cell_type": "code",
   "execution_count": 48,
   "metadata": {},
   "outputs": [
    {
     "data": {
      "image/png": "[encoded data removed]",
      "text/plain": [
       "<Figure size 720x432 with 1 Axes>"
      ]
     },
     "metadata": {
      "needs_background": "light"
     },
     "output_type": "display_data"
    }
   ],
   "source": [
    "chunk = 40\n",
    "n = np.arange(0,len(x)-chunk,1)\n",
    "ratio_list = []\n",
    "\n",
    "angle_list = []\n",
    "\n",
    "theta_list = []\n",
    "\n",
    "for element in n[12:13]:\n",
    "\n",
    "    rotated_points = []\n",
    "    raw_points = []\n",
    "    shortest_path = np.sqrt((x[element+chunk]-x[element])**2 + (y[element+chunk]-y[element])**2)\n",
    "\n",
    "\n",
    "\n",
    "    #generate rotation matrix\n",
    "\n",
    "    R, theta = rotation_matrix(x[element], y[element], x[element+chunk], y[element+chunk])\n",
    "    \n",
    "    theta = theta*180/np.pi\n",
    "    \n",
    "    theta_list.append(theta)\n",
    "\n",
    "    actual_list = 0\n",
    "    i = 0\n",
    "    while i < len(x[element:element+chunk]):\n",
    "\n",
    "\n",
    "\n",
    "        actual_path = np.sqrt((x[element:element+chunk+1][i+1]-x[element:element+chunk+1][i])**2 + (y[element:element+chunk+1][i+1]-y[element:element+chunk+1][i])**2)\n",
    "        actual_list += actual_path\n",
    "\n",
    "\n",
    "        #apply rotation matrix to every point\n",
    "\n",
    "\n",
    "        C = ((x[element:element+chunk+1][i]-x[element:element+chunk+1][0]), (y[element:element+chunk+1][i]-y[element:element+chunk+1][0]))\n",
    "        C_rot = R.dot(C)\n",
    "        raw_points.append(C)\n",
    "        rotated_points.append(C_rot)\n",
    "\n",
    "\n",
    "        i +=1\n",
    "\n",
    "    #should account for last point, there has to be more efficient way to do this \n",
    "\n",
    "\n",
    "    C = ((x[element:element+chunk+1][i]-x[element:element+chunk+1][0]), (y[element:element+chunk+1][i]-y[element:element+chunk+1][0]))\n",
    "    C_rot = R.dot(C)\n",
    "    raw_points.append(C)\n",
    "    rotated_points.append(C_rot)\n",
    "    \n",
    "    \n",
    "    x_rotated = []\n",
    "    y_rotated = []\n",
    "    for e in rotated_points:\n",
    "        x_rotated.append(e[0])\n",
    "        y_rotated.append(e[1])\n",
    "    x_raw = []\n",
    "    y_raw = []\n",
    "    for e in raw_points:\n",
    "        x_raw.append(e[0])\n",
    "        y_raw.append(e[1])\n",
    "    \n",
    "    plt.figure(figsize=(10,6))\n",
    "    plt.plot(x_raw[0:], y_raw[0:], \"-o\")\n",
    "    plt.plot(x_rotated[0:],y_rotated[0:], \"-o\", c = 'r')\n",
    "    plt.plot(x_raw[0], y_raw[0], \"-o\")\n",
    "    plt.plot(x_raw[-1], y_raw[-1], \"-o\", c = \"purple\")\n",
    "    plt.plot(x_rotated[-1], y_rotated[-1], \"-o\", c = \"purple\")\n",
    "    \n",
    "    rotated = np.sqrt((y_rotated[-1]-y_rotated[0])**2 + (x_rotated[-1]-x_rotated[0])**2)\n",
    "    \n",
    "    \n",
    "    \n",
    "    angle_list.append(np.arccos((x_rotated[0]-x_rotated[-1])/rotated)*180/np.pi)\n",
    "\n",
    "    ratio = actual_list/shortest_path\n",
    "    ratio_list.append(ratio)\n",
    "\n",
    "    mean = np.mean(ratio_list)\n",
    "    std = np.std(ratio_list)"
   ]
  },
  {
   "cell_type": "code",
   "execution_count": 49,
   "metadata": {},
   "outputs": [
    {
     "data": {
      "text/plain": [
       "[<matplotlib.lines.Line2D at 0xb7bf668>]"
      ]
     },
     "execution_count": 49,
     "metadata": {},
     "output_type": "execute_result"
    },
    {
     "data": {
      "image/png": "[encoded data removed]",
      "text/plain": [
       "<Figure size 432x288 with 1 Axes>"
      ]
     },
     "metadata": {
      "needs_background": "light"
     },
     "output_type": "display_data"
    }
   ],
   "source": [
    "plt.plot(np.asarray(x_rotated)*-1,np.asarray(y_rotated), c = \"r\")"
   ]
  },
  {
   "cell_type": "code",
   "execution_count": 50,
   "metadata": {},
   "outputs": [
    {
     "data": {
      "text/plain": [
       "[<matplotlib.lines.Line2D at 0xe0ae9e8>]"
      ]
     },
     "execution_count": 50,
     "metadata": {},
     "output_type": "execute_result"
    },
    {
     "data": {
      "image/png": "[encoded data removed]",
      "text/plain": [
       "<Figure size 432x288 with 1 Axes>"
      ]
     },
     "metadata": {
      "needs_background": "light"
     },
     "output_type": "display_data"
    }
   ],
   "source": [
    "plt.plot(np.arange(0,len(y_rotated)),y_rotated, c = \"r\")"
   ]
  },
  {
   "cell_type": "code",
   "execution_count": 11,
   "metadata": {},
   "outputs": [],
   "source": [
    "# i think the problem came from when I had to multiply the values from the roation matrix to the raw values. if the raw values had negative y...\n",
    "def rotation_matrix(x_0,y_0,x_1,y_1):\n",
    "    \n",
    "    A = np.asarray([(x_1-x_0), (y_1-y_0)]) # < --- is this counting the point as [(0,0), ((x_1-x_0), (y_1-y_0))] or [(x_1-x0), (y_1-y0)]?\n",
    "    B = np.asarray([1,0])\n",
    "    \n",
    "    theta = np.arccos(np.dot(A,B)/(np.linalg.norm(A)*np.linalg.norm(B)))\n",
    "    \n",
    "    if (y_1-y_0) < 0:\n",
    "        theta = 2*np.pi-theta\n",
    "        c, s = -1*np.cos(theta), np.sin(theta) # <--- why does this work? changes the new vector from being on the y-axis to the x-axis in example below (but for data looks like the difference isn't just a 90 degree turn--try angles not at 45)\n",
    "        R = np.array(( ( c,-s ) ,\n",
    "                   ( s,c )  ))\n",
    "    \n",
    "    else:\n",
    "        c, s = -1*np.cos(theta), np.sin(theta)\n",
    "        R = np.array(( ( c,-s ) ,\n",
    "                   ( s,c )  ))\n",
    "    \n",
    "    # do I have to shift the points too? so first point becomes origin, and then last point is shifted by the x & y of the first point. This is only used to find magnitude. Rotation matrix angle should hold for other points? each point as a vector with the origin and I rotate all those vectors equally\n",
    "    \n",
    "    return(R, theta)"
   ]
  },
  {
   "cell_type": "code",
   "execution_count": 949,
   "metadata": {},
   "outputs": [
    {
     "data": {
      "text/plain": [
       "45.0"
      ]
     },
     "execution_count": 949,
     "metadata": {},
     "output_type": "execute_result"
    }
   ],
   "source": [
    "a = np.asarray([(np.sqrt(2)/2), (np.sqrt(2)/2)])\n",
    "R, _ = rotation_matrix(0,0,a[0], a[1])\n",
    "_*180/np.pi"
   ]
  },
  {
   "cell_type": "code",
   "execution_count": 950,
   "metadata": {},
   "outputs": [
    {
     "data": {
      "text/plain": [
       "[<matplotlib.lines.Line2D at 0xfaeacc0>]"
      ]
     },
     "execution_count": 950,
     "metadata": {},
     "output_type": "execute_result"
    },
    {
     "data": {
      "image/png": "[encoded data removed]",
      "text/plain": [
       "<Figure size 432x288 with 1 Axes>"
      ]
     },
     "metadata": {
      "needs_background": "light"
     },
     "output_type": "display_data"
    }
   ],
   "source": [
    "plt.plot([0,a[0]], [0,a[1]])\n",
    "plt.plot([0,R.dot(a)[0]], [0,R.dot(a)[1]])\n",
    "# plt.plot([0,1],[0,0])"
   ]
  },
  {
   "cell_type": "code",
   "execution_count": 921,
   "metadata": {},
   "outputs": [
    {
     "data": {
      "text/plain": [
       "array([-1.00000000e+00, -2.22044605e-16])"
      ]
     },
     "execution_count": 921,
     "metadata": {},
     "output_type": "execute_result"
    }
   ],
   "source": [
    "R.dot(a)"
   ]
  },
  {
   "cell_type": "code",
   "execution_count": null,
   "metadata": {},
   "outputs": [],
   "source": []
  },
  {
   "cell_type": "code",
   "execution_count": 767,
   "metadata": {},
   "outputs": [],
   "source": [
    "#how to summate fft's and average them?\n",
    "#plot mean spectrum\n",
    "pre_t = df.loc[:,'FrameNumber']\n",
    "t = pre_t/100\n",
    "xvel = df.loc[:,'X_position']\n",
    "yvel = df.loc[:,'Y_position']\n",
    "\n",
    "Nx = len(xvel)  #number of points\n",
    "Nt = Nx\n",
    "Time = t.values[-1]-t.values[0]   #total sample time (in seconds)c\n",
    "fs = Nx/Time   # sample frequency\n",
    "TT = 1/fs  #delta t.\n",
    "list(xvel)\n",
    "meanxvel = mean(xvel)\n",
    "\n",
    "# . fftxvel is complex with real and imaginary part.\n",
    "#Nyquist spacing (first half of Fourier) -- the list of frequencies for which we have Fourier coefficients\n",
    "fftxvel = fft(xvel-meanxvel)    # this is the Fourier tranform of the x velocity\n",
    "xf = np.linspace(0.0, 1.0/(2.0*TT), Nx//2) "
   ]
  }
 ],
 "metadata": {
  "kernelspec": {
   "display_name": "Python 3",
   "language": "python",
   "name": "python3"
  },
  "language_info": {
   "codemirror_mode": {
    "name": "ipython",
    "version": 3
   },
   "file_extension": ".py",
   "mimetype": "text/x-python",
   "name": "python",
   "nbconvert_exporter": "python",
   "pygments_lexer": "ipython3",
   "version": "3.6.4"
  }
 },
 "nbformat": 4,
 "nbformat_minor": 2
}
