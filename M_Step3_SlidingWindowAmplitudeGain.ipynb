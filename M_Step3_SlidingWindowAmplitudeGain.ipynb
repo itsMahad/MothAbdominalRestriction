{
 "cells": [
  {
   "cell_type": "code",
   "execution_count": 1,
   "metadata": {},
   "outputs": [],
   "source": [
    "from matplotlib import pyplot as plt\n",
    "%matplotlib inline\n",
    "from matplotlib import style\n",
    "style.use('seaborn-talk')\n",
    "from matplotlib import cm\n",
    "import numpy as np\n",
    "import os\n",
    "import scipy.io\n",
    "import seaborn as sb\n",
    "from scipy.fftpack import fft\n",
    "import csv\n",
    "import pandas as pd\n",
    "from scipy.signal import butter, filtfilt\n",
    "import glob\n",
    "import seaborn as sns\n",
    "import scikit_posthocs as sp\n",
    "from scipy import signal"
   ]
  },
  {
   "cell_type": "code",
   "execution_count": 2,
   "metadata": {},
   "outputs": [],
   "source": [
    "# Pathways\n",
    "outpath = r'C:\\Users\\Daniellab\\Desktop\\Jorge_Analysis\\Tortuosity\\chunking'\n",
    "figpath = r'C:\\Users\\Daniellab\\Desktop\\Jorge_Analysis\\Tortuosity\\chunking\\figures'\n",
    "source = r'C:\\Users\\Daniellab\\Desktop\\Jorge_Analysis\\Centroids_Final\\Raw_NG'"
   ]
  },
  {
   "cell_type": "code",
   "execution_count": 8,
   "metadata": {},
   "outputs": [],
   "source": [
    "#sample data such that there are no NaNs within each path and that each path is greater than 100 frames (fft cannot tolerate NaNs, is removing better than smoothening?)\n",
    "def removeNaN(df): \n",
    "    if np.any(df.X_position.isnull()):\n",
    "        a = np.asarray(np.where(df.X_position.isnull())).ravel()\n",
    "        b = a[1:]\n",
    "        c = a[:-1]\n",
    "        d = b-c\n",
    "        last_chunk = len(df.X_position) - a[-1]\n",
    "\n",
    "\n",
    "        if last_chunk > 100:\n",
    "\n",
    "            start = a[-1]+1\n",
    "            end = a[-1] + last_chunk-1\n",
    "\n",
    "        elif a[0] > 100:\n",
    "            start = 0\n",
    "            end = a[0]-1\n",
    "\n",
    "\n",
    "        elif d.max() > 100:\n",
    "            e = d.argmax()\n",
    "            start = a[e]+1\n",
    "            end = a[e+1]-1\n",
    "\n",
    "        else:\n",
    "            print('error')\n",
    "    \n",
    "        x_no_nan = df.X_position.values[start:end]\n",
    "        y_no_nan = df.Y_position.values[start:end]\n",
    "        return(x_no_nan, y_no_nan)\n",
    "    else:\n",
    "        x = df.X_position.values\n",
    "        y = df.Y_position.values\n",
    "        return(x,y)"
   ]
  },
  {
   "cell_type": "code",
   "execution_count": 501,
   "metadata": {},
   "outputs": [],
   "source": [
    "def rotation_matrix(x_0,y_0,x_1,y_1):\n",
    "    \n",
    "    A = np.asarray([(x_1-x_0), (y_1-y_0)]) # < --- is this counting the point as [(0,0), ((x_1-x_0), (y_1-y_0))] or [(x_1-x0), (y_1-y0)]?\n",
    "    B = np.asarray([1,0])\n",
    "    \n",
    "    theta = np.arccos(np.dot(A,B)/(np.linalg.norm(A)*np.linalg.norm(B)))\n",
    "    \n",
    "    if (y_1-y_0) < 0:\n",
    "        theta += np.pi\n",
    "    \n",
    "    c, s = np.cos(theta), np.sin(theta)\n",
    "    R = np.array(( ( c,-s ) ,\n",
    "                   ( s,c )  ))\n",
    "    \n",
    "    # do I have to shift the points too? so first point becomes origin, and then last point is shifted by the x & y of the first point. This is only used to find magnitude. Rotation matrix angle should hold for other points? each point as a vector with the origin and I rotate all those vectors equally\n",
    "    \n",
    "    return(R)"
   ]
  },
  {
   "cell_type": "code",
   "execution_count": 493,
   "metadata": {},
   "outputs": [
    {
     "data": {
      "text/plain": [
       "-1.8369701987210297e-16"
      ]
     },
     "execution_count": 493,
     "metadata": {},
     "output_type": "execute_result"
    }
   ],
   "source": [
    "np.cos(270*np.pi/180)"
   ]
  },
  {
   "cell_type": "code",
   "execution_count": 491,
   "metadata": {},
   "outputs": [
    {
     "data": {
      "text/plain": [
       "(1.0,\n",
       " 0.8660254037844387,\n",
       " 0.7071067811865476,\n",
       " 0.5000000000000001,\n",
       " 6.123233995736766e-17,\n",
       " -0.7071067811865475,\n",
       " -1.0)"
      ]
     },
     "execution_count": 491,
     "metadata": {},
     "output_type": "execute_result"
    }
   ],
   "source": [
    "np.cos(0), np.cos(30*np.pi/180), np.cos(60*np.pi/180), np.cos(90*np.pi/180), np.cos(135*np.pi/180), np.cos(180*np.pi/180)"
   ]
  },
  {
   "cell_type": "code",
   "execution_count": 391,
   "metadata": {},
   "outputs": [],
   "source": [
    "x_0,y_0 = 0,0\n",
    "x_1,y_1 = 2*np.sqrt(3)/2,2*1/2\n",
    "A = np.asarray([(x_1-x_0), (y_1-y_0)])\n",
    "B = np.asarray([1,0])"
   ]
  },
  {
   "cell_type": "code",
   "execution_count": 392,
   "metadata": {},
   "outputs": [
    {
     "data": {
      "text/plain": [
       "1.9999999999999998"
      ]
     },
     "execution_count": 392,
     "metadata": {},
     "output_type": "execute_result"
    }
   ],
   "source": [
    "np.linalg.norm(A)"
   ]
  },
  {
   "cell_type": "code",
   "execution_count": 395,
   "metadata": {},
   "outputs": [
    {
     "data": {
      "text/plain": [
       "29.999999999999993"
      ]
     },
     "execution_count": 395,
     "metadata": {},
     "output_type": "execute_result"
    }
   ],
   "source": [
    "np.arccos(np.dot(A,B)/(np.linalg.norm(A)*np.linalg.norm(B)))*180/np.pi"
   ]
  },
  {
   "cell_type": "code",
   "execution_count": 375,
   "metadata": {},
   "outputs": [
    {
     "data": {
      "text/plain": [
       "25"
      ]
     },
     "execution_count": 375,
     "metadata": {},
     "output_type": "execute_result"
    }
   ],
   "source": [
    "np.dot(A,A)"
   ]
  },
  {
   "cell_type": "code",
   "execution_count": 373,
   "metadata": {},
   "outputs": [
    {
     "data": {
      "text/plain": [
       "5.0"
      ]
     },
     "execution_count": 373,
     "metadata": {},
     "output_type": "execute_result"
    }
   ],
   "source": [
    "np.linalg.norm(A)"
   ]
  },
  {
   "cell_type": "code",
   "execution_count": 292,
   "metadata": {},
   "outputs": [
    {
     "data": {
      "text/plain": [
       "array([-0.70710678,  2.12132034])"
      ]
     },
     "execution_count": 292,
     "metadata": {},
     "output_type": "execute_result"
    }
   ],
   "source": [
    "R = rotation_matrix(0,0,10,10)\n",
    "C = (1,2)\n",
    "c = R.dot(C) # dont use dot product. Instead try using matrix multiplication??\n",
    "c"
   ]
  },
  {
   "cell_type": "code",
   "execution_count": 592,
   "metadata": {},
   "outputs": [],
   "source": [
    "#Create a sliding window (10 wingbeats@25Hz/wingbeat&100frames/s ---> 40 frame window)\n",
    "#report every distance vs displacement ratio for each chunk\n",
    "def tortuosity_ratio(x,y,chunk):\n",
    "    \n",
    "    n = np.arange(0,len(x)-chunk,1)\n",
    "    ratio_list = []\n",
    "    \n",
    "    \n",
    "    for element in n[:140]:\n",
    "        \n",
    "        rotated_points = []\n",
    "        raw_points = []\n",
    "        shortest_path = np.sqrt((x[element+chunk]-x[element])**2 + (y[element+chunk]-y[element])**2)\n",
    "        \n",
    "        \n",
    "        \n",
    "        #generate rotation matrix\n",
    "        \n",
    "        R = rotation_matrix(x[element], y[element], x[element+chunk], y[element+chunk])\n",
    "        \n",
    "        \n",
    "        actual_list = 0\n",
    "        i = 0\n",
    "        while i < len(x[element:element+chunk]):\n",
    "\n",
    "\n",
    "\n",
    "            actual_path = np.sqrt((x[element:element+chunk+1][i+1]-x[element:element+chunk+1][i])**2 + (y[element:element+chunk+1][i+1]-y[element:element+chunk+1][i])**2)\n",
    "            actual_list += actual_path\n",
    "\n",
    "            \n",
    "            #apply rotation matrix to every point\n",
    "\n",
    "\n",
    "            C = ((x[element:element+chunk+1][i]-x[element:element+chunk+1][0]), (y[element:element+chunk+1][i]-y[element:element+chunk+1][0]))\n",
    "            C_rot = R.dot(C)\n",
    "            raw_points.append(C)\n",
    "            rotated_points.append(C_rot)\n",
    "            \n",
    "\n",
    "            i +=1\n",
    "        \n",
    "        #should account for last point, there has to be more efficient way to do this \n",
    "        \n",
    "        \n",
    "        C = ((x[element:element+chunk+1][i]-x[element:element+chunk+1][0]), (y[element:element+chunk+1][i]-y[element:element+chunk+1][0]))\n",
    "        C_rot = R.dot(C)\n",
    "        raw_points.append(C)\n",
    "        rotated_points.append(C_rot)\n",
    "        \n",
    "        ratio = actual_list/shortest_path\n",
    "        ratio_list.append(ratio)\n",
    "        \n",
    "        mean = np.mean(ratio_list)\n",
    "        std = np.std(ratio_list)\n",
    "    return(mean, std, ratio_list, rotated_points, raw_points)"
   ]
  },
  {
   "cell_type": "code",
   "execution_count": 593,
   "metadata": {},
   "outputs": [],
   "source": [
    "df = pd.read_csv(source + '\\Centroids_Final_Sham_2_58256.csv')"
   ]
  },
  {
   "cell_type": "code",
   "execution_count": 594,
   "metadata": {},
   "outputs": [
    {
     "data": {
      "text/plain": [
       "256"
      ]
     },
     "execution_count": 594,
     "metadata": {},
     "output_type": "execute_result"
    }
   ],
   "source": [
    "x,y = removeNaN(df)\n",
    "mean, std, ratio_list, rotated_points, raw_points = tortuosity_ratio(x,y, 40)\n",
    "len(x)"
   ]
  },
  {
   "cell_type": "code",
   "execution_count": 595,
   "metadata": {},
   "outputs": [],
   "source": [
    "x_rotated = []\n",
    "y_rotated = []\n",
    "for e in rotated_points:\n",
    "    x_rotated.append(e[0])\n",
    "    y_rotated.append(e[1])\n",
    "x_raw = []\n",
    "y_raw = []\n",
    "for e in raw_points:\n",
    "    x_raw.append(e[0])\n",
    "    y_raw.append(e[1])\n"
   ]
  },
  {
   "cell_type": "code",
   "execution_count": 596,
   "metadata": {},
   "outputs": [
    {
     "data": {
      "text/plain": [
       "[<matplotlib.lines.Line2D at 0xedae3c8>]"
      ]
     },
     "execution_count": 596,
     "metadata": {},
     "output_type": "execute_result"
    },
    {
     "data": {
      "image/png": "[encoded data removed]",
      "text/plain": [
       "<Figure size 432x288 with 1 Axes>"
      ]
     },
     "metadata": {
      "needs_background": "light"
     },
     "output_type": "display_data"
    }
   ],
   "source": [
    "plt.plot(x,y, \"-o\")"
   ]
  },
  {
   "cell_type": "code",
   "execution_count": 597,
   "metadata": {},
   "outputs": [
    {
     "data": {
      "text/plain": [
       "[<matplotlib.lines.Line2D at 0xd8c3ac8>]"
      ]
     },
     "execution_count": 597,
     "metadata": {},
     "output_type": "execute_result"
    },
    {
     "data": {
      "image/png": "[encoded data removed]",
      "text/plain": [
       "<Figure size 720x432 with 1 Axes>"
      ]
     },
     "metadata": {
      "needs_background": "light"
     },
     "output_type": "display_data"
    }
   ],
   "source": [
    "plt.figure(figsize=(10,6))\n",
    "plt.plot(x_raw[0:], y_raw[0:], \"-o\")\n",
    "plt.plot(x_rotated[0:],y_rotated[0:], \"-o\", c = 'r')\n",
    "plt.plot(x_raw[0], y_raw[0], \"-o\")\n",
    "plt.plot(x_raw[-1], y_raw[-1], \"-o\", c = \"purple\")\n",
    "plt.plot(x_rotated[-1], y_rotated[-1], \"-o\", c = \"purple\")"
   ]
  },
  {
   "cell_type": "code",
   "execution_count": 479,
   "metadata": {},
   "outputs": [
    {
     "data": {
      "text/plain": [
       "[<matplotlib.lines.Line2D at 0xbca66a0>]"
      ]
     },
     "execution_count": 479,
     "metadata": {},
     "output_type": "execute_result"
    },
    {
     "data": {
      "image/png": "[encoded data removed]",
      "text/plain": [
       "<Figure size 720x432 with 1 Axes>"
      ]
     },
     "metadata": {
      "needs_background": "light"
     },
     "output_type": "display_data"
    }
   ],
   "source": [
    "plt.figure(figsize=(10,6))\n",
    "plt.plot(x_raw[0:], y_raw[0:], \"-o\")\n",
    "plt.plot(x_rotated[0:],y_rotated[0:], \"-o\", c = 'r')\n",
    "plt.plot(x_raw[0], y_raw[0], \"-o\")\n",
    "plt.plot(x_raw[-1], y_raw[-1], \"-o\", c = \"purple\")\n",
    "plt.plot(x_rotated[-1], y_rotated[-1], \"-o\", c = \"purple\")"
   ]
  },
  {
   "cell_type": "code",
   "execution_count": 574,
   "metadata": {},
   "outputs": [
    {
     "data": {
      "text/plain": [
       "[<matplotlib.lines.Line2D at 0xbe6cc50>]"
      ]
     },
     "execution_count": 574,
     "metadata": {},
     "output_type": "execute_result"
    },
    {
     "data": {
      "image/png": "[encoded data removed]",
      "text/plain": [
       "<Figure size 720x432 with 1 Axes>"
      ]
     },
     "metadata": {
      "needs_background": "light"
     },
     "output_type": "display_data"
    }
   ],
   "source": [
    "plt.figure(figsize=(10,6))\n",
    "plt.plot(x_raw[0:], y_raw[0:], \"-o\")\n",
    "plt.plot(x_rotated[0:],y_rotated[0:], \"-o\", c = 'r')\n",
    "plt.plot(x_raw[0], y_raw[0], \"-o\")\n",
    "plt.plot(x_raw[-1], y_raw[-1], \"-o\", c = \"purple\")\n",
    "plt.plot(x_rotated[-1], y_rotated[-1], \"-o\", c = \"purple\")\n",
    "#why isnt this level?"
   ]
  },
  {
   "cell_type": "code",
   "execution_count": 598,
   "metadata": {},
   "outputs": [
    {
     "data": {
      "text/plain": [
       "(0.0, -5.005406250039132)"
      ]
     },
     "execution_count": 598,
     "metadata": {},
     "output_type": "execute_result"
    }
   ],
   "source": [
    "y_rotated[0], y_rotated[-1]"
   ]
  },
  {
   "cell_type": "code",
   "execution_count": 562,
   "metadata": {},
   "outputs": [
    {
     "data": {
      "text/plain": [
       "(170.3143987308616, 170.38793533223776)"
      ]
     },
     "execution_count": 562,
     "metadata": {},
     "output_type": "execute_result"
    }
   ],
   "source": [
    "x_rotated[0]-x_rotated[-1], rotated"
   ]
  },
  {
   "cell_type": "code",
   "execution_count": 600,
   "metadata": {},
   "outputs": [
    {
     "data": {
      "text/plain": [
       "1.6833933528157976"
      ]
     },
     "execution_count": 600,
     "metadata": {},
     "output_type": "execute_result"
    }
   ],
   "source": [
    "np.arccos((x_rotated[0]-x_rotated[-1])/rotated)*180/np.pi # looks like my roation is 10 degrees off (is this conserved? <-- no its not)"
   ]
  },
  {
   "cell_type": "code",
   "execution_count": 533,
   "metadata": {},
   "outputs": [
    {
     "data": {
      "text/plain": [
       "(75.85965390000001, -74.95345086147175)"
      ]
     },
     "execution_count": 533,
     "metadata": {},
     "output_type": "execute_result"
    }
   ],
   "source": [
    "y_raw[-1]-y_raw[0],x_rotated[-1]-x_rotated[0] # not actual distance tho, cause this wasn't rotated 90 deg"
   ]
  },
  {
   "cell_type": "code",
   "execution_count": 599,
   "metadata": {},
   "outputs": [
    {
     "data": {
      "text/plain": [
       "(170.38793533223776, 170.38793533223776)"
      ]
     },
     "execution_count": 599,
     "metadata": {},
     "output_type": "execute_result"
    }
   ],
   "source": [
    "raw = np.sqrt((y_raw[-1]-y_raw[0])**2 + (x_raw[-1]-x_raw[0])**2)\n",
    "rotated = np.sqrt((y_rotated[-1]-y_rotated[0])**2 + (x_rotated[-1]-x_rotated[0])**2)\n",
    "raw, rotated"
   ]
  },
  {
   "cell_type": "code",
   "execution_count": 5,
   "metadata": {},
   "outputs": [],
   "source": [
    "#rotate the data such that the variance from the shortest path is in one dimension"
   ]
  },
  {
   "cell_type": "code",
   "execution_count": 6,
   "metadata": {},
   "outputs": [],
   "source": [
    "#calculate an fft spectrum "
   ]
  },
  {
   "cell_type": "code",
   "execution_count": 7,
   "metadata": {},
   "outputs": [],
   "source": [
    "#average the spectrum across each chunk within a path (considering both the mean and the variance)"
   ]
  },
  {
   "cell_type": "code",
   "execution_count": 588,
   "metadata": {},
   "outputs": [],
   "source": [
    "chunk = 40\n",
    "n = np.arange(0,len(x)-chunk,1)\n",
    "ratio_list = []\n",
    "\n",
    "angle_list = []\n",
    "\n",
    "for element in n:\n",
    "\n",
    "    rotated_points = []\n",
    "    raw_points = []\n",
    "    shortest_path = np.sqrt((x[element+chunk]-x[element])**2 + (y[element+chunk]-y[element])**2)\n",
    "\n",
    "\n",
    "\n",
    "    #generate rotation matrix\n",
    "\n",
    "    R = rotation_matrix(x[element], y[element], x[element+chunk], y[element+chunk])\n",
    "\n",
    "\n",
    "    actual_list = 0\n",
    "    i = 0\n",
    "    while i < len(x[element:element+chunk]):\n",
    "\n",
    "\n",
    "\n",
    "        actual_path = np.sqrt((x[element:element+chunk+1][i+1]-x[element:element+chunk+1][i])**2 + (y[element:element+chunk+1][i+1]-y[element:element+chunk+1][i])**2)\n",
    "        actual_list += actual_path\n",
    "\n",
    "\n",
    "        #apply rotation matrix to every point\n",
    "\n",
    "\n",
    "        C = ((x[element:element+chunk+1][i]-x[element:element+chunk+1][0]), (y[element:element+chunk+1][i]-y[element:element+chunk+1][0]))\n",
    "        C_rot = R.dot(C)\n",
    "        raw_points.append(C)\n",
    "        rotated_points.append(C_rot)\n",
    "\n",
    "\n",
    "        i +=1\n",
    "\n",
    "    #should account for last point, there has to be more efficient way to do this \n",
    "\n",
    "\n",
    "    C = ((x[element:element+chunk+1][i]-x[element:element+chunk+1][0]), (y[element:element+chunk+1][i]-y[element:element+chunk+1][0]))\n",
    "    C_rot = R.dot(C)\n",
    "    raw_points.append(C)\n",
    "    rotated_points.append(C_rot)\n",
    "    \n",
    "    \n",
    "    x_rotated = []\n",
    "    y_rotated = []\n",
    "    for e in rotated_points:\n",
    "        x_rotated.append(e[0])\n",
    "        y_rotated.append(e[1])\n",
    "    \n",
    "    rotated = np.sqrt((y_rotated[-1]-y_rotated[0])**2 + (x_rotated[-1]-x_rotated[0])**2)\n",
    "    \n",
    "    \n",
    "    \n",
    "    angle_list.append(np.arccos((x_rotated[0]-x_rotated[-1])/rotated)*180/np.pi)\n",
    "\n",
    "    ratio = actual_list/shortest_path\n",
    "    ratio_list.append(ratio)\n",
    "\n",
    "    mean = np.mean(ratio_list)\n",
    "    std = np.std(ratio_list)"
   ]
  },
  {
   "cell_type": "code",
   "execution_count": 602,
   "metadata": {},
   "outputs": [
    {
     "data": {
      "text/plain": [
       "[139.75041812843205,\n",
       " 146.82478419295154,\n",
       " 158.7095423989353,\n",
       " 178.5994840233248,\n",
       " 0.0,\n",
       " 0.0,\n",
       " 0.0,\n",
       " 0.0,\n",
       " 0.0,\n",
       " 0.0,\n",
       " 0.0,\n",
       " 0.0,\n",
       " 0.0,\n",
       " 0.0,\n",
       " 0.0,\n",
       " 0.0,\n",
       " 0.0,\n",
       " 0.0,\n",
       " 0.0,\n",
       " 0.0,\n",
       " 0.0,\n",
       " 0.0,\n",
       " 0.0,\n",
       " 0.0,\n",
       " 0.0,\n",
       " 0.0,\n",
       " 0.0,\n",
       " 0.0,\n",
       " 0.0,\n",
       " 0.0,\n",
       " 0.0,\n",
       " 0.0,\n",
       " 0.0,\n",
       " 0.0,\n",
       " 0.0,\n",
       " 0.0,\n",
       " 0.0,\n",
       " 0.0,\n",
       " 0.0,\n",
       " 0.0,\n",
       " 0.0,\n",
       " 0.0,\n",
       " 0.0,\n",
       " 0.0,\n",
       " 0.0,\n",
       " 0.0,\n",
       " 0.0,\n",
       " 0.0,\n",
       " 0.0,\n",
       " 0.0,\n",
       " 0.0,\n",
       " 0.0,\n",
       " 0.0,\n",
       " 0.0,\n",
       " 0.0,\n",
       " 0.0,\n",
       " 0.0,\n",
       " 0.0,\n",
       " 0.0,\n",
       " 0.0,\n",
       " 0.0,\n",
       " 0.0,\n",
       " 0.0,\n",
       " 0.0,\n",
       " 0.0,\n",
       " 0.0,\n",
       " 0.0,\n",
       " 0.0,\n",
       " 0.0,\n",
       " 0.0,\n",
       " 0.0,\n",
       " 0.0,\n",
       " 0.0,\n",
       " 0.0,\n",
       " 0.0,\n",
       " 0.0,\n",
       " 0.0,\n",
       " 0.0,\n",
       " 0.0,\n",
       " 0.0,\n",
       " 0.0,\n",
       " 0.0,\n",
       " 0.0,\n",
       " 0.0,\n",
       " 179.7026851512049,\n",
       " 0.0,\n",
       " 0.0,\n",
       " 0.0,\n",
       " 0.0,\n",
       " 0.0,\n",
       " 0.0,\n",
       " 0.0,\n",
       " 0.0,\n",
       " 0.0,\n",
       " 0.0,\n",
       " 0.0,\n",
       " 0.0,\n",
       " 0.0,\n",
       " 0.0,\n",
       " 0.0,\n",
       " 0.0,\n",
       " 0.0,\n",
       " 0.0,\n",
       " 0.0,\n",
       " 0.0,\n",
       " 0.0,\n",
       " 0.0,\n",
       " 179.9183948810796,\n",
       " 178.0913524479711,\n",
       " 176.5349566469885,\n",
       " 175.98314628344423,\n",
       " 177.12292129671087,\n",
       " 179.73587288897696,\n",
       " 0.0,\n",
       " 0.0,\n",
       " 0.0,\n",
       " 0.0,\n",
       " 179.78252315790942,\n",
       " 175.82954372206004,\n",
       " 171.29167774622871,\n",
       " 163.39170624591188,\n",
       " 152.2594650651527,\n",
       " 139.7275780569269,\n",
       " 126.18505738101229,\n",
       " 108.30385336364286,\n",
       " 89.64717964713023,\n",
       " 78.7179636284809,\n",
       " 75.19489245137308,\n",
       " 72.74894030465661,\n",
       " 72.74578556303072,\n",
       " 74.86992184454533,\n",
       " 76.75238092094438,\n",
       " 75.75196143255077,\n",
       " 71.65420073247084,\n",
       " 65.76166532696742,\n",
       " 54.84257505145795,\n",
       " 40.95066741132399,\n",
       " 26.116934545190574,\n",
       " 13.44245515840452,\n",
       " 1.6833933528157976,\n",
       " 7.605816337734036,\n",
       " 14.68801738945347,\n",
       " 18.94629587685081,\n",
       " 21.45422331583979,\n",
       " 20.24638873444913,\n",
       " 16.905921558173493,\n",
       " 11.835681715174179,\n",
       " 7.351615967380168,\n",
       " 2.7495580720818587,\n",
       " 0.9902499305829029,\n",
       " 3.25063339105089,\n",
       " 3.265389378145002,\n",
       " 2.641178113865045,\n",
       " 2.0402384368582807,\n",
       " 1.2770124630323012,\n",
       " 0.8908330517629808,\n",
       " 1.5607449018687554,\n",
       " 2.6108895020563616,\n",
       " 3.4371209344683766,\n",
       " 3.7033839909250084,\n",
       " 4.164851922990549,\n",
       " 3.4887858039374424,\n",
       " 2.148245866211344,\n",
       " 0.8208683746041455,\n",
       " 0.5973362511440734,\n",
       " 3.102516001727677,\n",
       " 6.7498609005212105,\n",
       " 10.658935079201523,\n",
       " 15.4737588611477,\n",
       " 20.9803522043945,\n",
       " 26.379266948031976,\n",
       " 30.756616824101894,\n",
       " 35.43344707855119,\n",
       " 40.639190296103585,\n",
       " 45.190424076789135,\n",
       " 49.33287151355129,\n",
       " 54.06332738898071,\n",
       " 59.70373937483863,\n",
       " 63.87319582674219,\n",
       " 67.29152428563484,\n",
       " 70.32425306117369,\n",
       " 72.33899471944227,\n",
       " 69.97187030485975,\n",
       " 64.69542951270897,\n",
       " 60.14716279320917,\n",
       " 54.04081761278641,\n",
       " 47.95088304034077,\n",
       " 43.529634633694734,\n",
       " 44.69442867365896,\n",
       " 44.152005903665014,\n",
       " 42.770129970316546,\n",
       " 40.30556566992317,\n",
       " 38.679601882408335,\n",
       " 33.06763282084019,\n",
       " 24.39158488606031,\n",
       " 15.625960155736239,\n",
       " 7.064437922996758,\n",
       " 0.2425657000472541,\n",
       " 5.975711374855569,\n",
       " 7.937915623907527,\n",
       " 10.22279273874404,\n",
       " 17.65210200078656,\n",
       " 25.31086759698457,\n",
       " 34.167077896350946,\n",
       " 41.28740759493296,\n",
       " 49.235302953650184,\n",
       " 56.82569121219416,\n",
       " 69.41025628607898,\n",
       " 99.47006635011147,\n",
       " 166.7103367606325,\n",
       " 0.0,\n",
       " 0.0,\n",
       " 0.0,\n",
       " 0.0,\n",
       " 0.0,\n",
       " 0.0]"
      ]
     },
     "execution_count": 602,
     "metadata": {},
     "output_type": "execute_result"
    }
   ],
   "source": [
    "angle_list"
   ]
  },
  {
   "cell_type": "code",
   "execution_count": null,
   "metadata": {},
   "outputs": [],
   "source": []
  }
 ],
 "metadata": {
  "kernelspec": {
   "display_name": "Python 3",
   "language": "python",
   "name": "python3"
  },
  "language_info": {
   "codemirror_mode": {
    "name": "ipython",
    "version": 3
   },
   "file_extension": ".py",
   "mimetype": "text/x-python",
   "name": "python",
   "nbconvert_exporter": "python",
   "pygments_lexer": "ipython3",
   "version": "3.7.1"
  }
 },
 "nbformat": 4,
 "nbformat_minor": 2
}
